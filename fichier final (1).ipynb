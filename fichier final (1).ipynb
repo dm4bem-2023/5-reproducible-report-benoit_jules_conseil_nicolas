{
 "cells": [
  {
   "cell_type": "markdown",
   "id": "f66e12a1-a431-4a3c-887b-d5aa85e06fcc",
   "metadata": {},
   "source": [
    "#Dynamic Models for Building Energy Management"
   ]
  },
  {
   "cell_type": "markdown",
   "id": "d655fc9d-ae61-41b4-9977-43e226a0d43a",
   "metadata": {},
   "source": [
    "1) Modèle"
   ]
  },
  {
   "cell_type": "markdown",
   "id": "47dbb386-1256-47b1-92ad-c0ea74dffb9f",
   "metadata": {
    "tags": []
   },
   "source": [
    "![cube](./figures/photo1.jpg)"
   ]
  },
  {
   "cell_type": "markdown",
   "id": "68e35d0a-40a1-4ebc-8027-f9d0140ba8cc",
   "metadata": {},
   "source": [
    "Notre bâtiment est composé d'une grande pièce de 10m x 5m, avec une épaisseur de mur de 28cm. Elle est composé d'une porte de 0.8m x 2m, d'une fenêtre de 1.25m x 1m, et d'une grande fenêtre de 2.5m x 1.5m. Enfin, une petite pièce est à l'intérieur de cette dernière, séparée par une cloison de 7cm d'épaisseur. Elle comporte une porte de 0.8m x 2m."
   ]
  },
  {
   "cell_type": "markdown",
   "id": "13320572-47a0-4c8e-8174-0474778605e1",
   "metadata": {
    "tags": []
   },
   "source": [
    "2. Conditions aux limites et hypothèses"
   ]
  },
  {
   "cell_type": "markdown",
   "id": "740dfa4a-8370-4de3-b521-127cbf40d477",
   "metadata": {
    "tags": []
   },
   "source": [
    "Pour faciliter les calculs et le dimensionnement, plusieurs hypothèses doivent être prises en compte : \n",
    "\n",
    "    - Les transferts thermiques au sol et au plafond seront négligés. \n",
    "    - La température est considérée comme uniforme sur toute la surface des murs et des vitrages.\n",
    "    - Les transferts thermiques seront unidirectionnels dans les murs, portes et les vitrages.\n",
    "    - Les transferts thermiques seront supposés linéaire.\n",
    "    - On suppose les transferts thermiques dus aux appareils électroniques ainsi que les lumières comme négligeables.\n",
    "    \n",
    "Pour les conditions aux limites, nous avons : \n",
    "\n",
    "    - Température extérieur de 5°C.\n",
    "    - Température intérieur de 20°C dans les 2 pièces."
   ]
  },
  {
   "cell_type": "markdown",
   "id": "253f72c7-72ce-47b4-bb8c-0b18f0e30309",
   "metadata": {},
   "source": [
    "3. Type de portes, fenêtres et murs"
   ]
  },
  {
   "cell_type": "markdown",
   "id": "99353704-634b-4876-9820-0b63c7aa8dd6",
   "metadata": {
    "tags": []
   },
   "source": [
    "Pour les murs extérieurs, nous allons considéré un mur constitué de béton, de laine de verre et de placo. Voici plus précisément une représentation des proportions des éléments de nos murs : "
   ]
  },
  {
   "cell_type": "markdown",
   "id": "8e616f3e-9b35-4368-93f1-a22db7016347",
   "metadata": {
    "tags": []
   },
   "source": [
    "![cube](./figures/photo2.jpg)"
   ]
  },
  {
   "cell_type": "markdown",
   "id": "fc0b56bd-362d-4139-a61e-2d76a3ae2b54",
   "metadata": {},
   "source": [
    "Pour la cloison intérieure, nous avons choisi une isolation thermique et acoustique avec de la laine de verre de 5cm d'épaisseur.Une ligne de montant métallique de part et d'autre de l'isolant va permettre ensuite de positionner du placo de 1cm d'épaisseur."
   ]
  },
  {
   "cell_type": "markdown",
   "id": "dbf83eb1-e521-4d39-bab9-b34bb08ba2cb",
   "metadata": {
    "tags": []
   },
   "source": [
    "![cube](./figures/photo3.jpg)"
   ]
  },
  {
   "cell_type": "markdown",
   "id": "75bbaaae-e324-4e5d-9998-aecf50f1dc0b",
   "metadata": {},
   "source": [
    "Pour les fenêtres, nous allons tout simplement utiliser un double vitrage séparé par de l'argon. Pour les dimensions, nous allons prendre des vitres en verre de 4mm d'épaisseur, et un espace entre d'environ 16mm."
   ]
  },
  {
   "cell_type": "markdown",
   "id": "e98c96c5-f120-457f-b845-c20b5a48a64c",
   "metadata": {},
   "source": [
    "Pour les portes, nous allons privilégier les portes postformées. L’âme de la porte postformée sera composée de bois aggloméré. Le parement qui recouvre les 2 côtés sera du bois massif. "
   ]
  },
  {
   "cell_type": "markdown",
   "id": "48bc811d-286b-4d85-9e0c-44c78b666d0c",
   "metadata": {},
   "source": [
    "4) Schéma électrique équivalent du bâtiment"
   ]
  },
  {
   "cell_type": "markdown",
   "id": "635ddf99-1034-4d69-8787-06daaea1957c",
   "metadata": {},
   "source": [
    "![cube](./figures/photo.jpg)"
   ]
  },
  {
   "cell_type": "markdown",
   "id": "75b77dc8-38ed-4675-8035-7e1e4f731180",
   "metadata": {},
   "source": [
    "5. Noeuds de température"
   ]
  },
  {
   "cell_type": "code",
   "execution_count": 1,
   "id": "cb360cc0-e53a-4541-90ba-123fd6568c8c",
   "metadata": {},
   "outputs": [],
   "source": [
    "??"
   ]
  },
  {
   "cell_type": "markdown",
   "id": "d4400112-ad60-48ad-91ca-b93ac7985841",
   "metadata": {},
   "source": [
    "6. Calculs des résistances thermiques de convection, conduction et autre"
   ]
  },
  {
   "cell_type": "markdown",
   "id": "ffe0fb9a-58d4-4d3b-8c7c-3570d853c2c2",
   "metadata": {},
   "source": [
    "Tout d'abord, voici un tableau récapitulatif des différentes valeurs des matériaux que l'on devra prendre en considération : "
   ]
  },
  {
   "cell_type": "code",
   "execution_count": 2,
   "id": "3637de8f",
   "metadata": {
    "scrolled": true
   },
   "outputs": [
    {
     "data": {
      "text/html": [
       "<div>\n",
       "<style scoped>\n",
       "    .dataframe tbody tr th:only-of-type {\n",
       "        vertical-align: middle;\n",
       "    }\n",
       "\n",
       "    .dataframe tbody tr th {\n",
       "        vertical-align: top;\n",
       "    }\n",
       "\n",
       "    .dataframe thead th {\n",
       "        text-align: right;\n",
       "    }\n",
       "</style>\n",
       "<table border=\"1\" class=\"dataframe\">\n",
       "  <thead>\n",
       "    <tr style=\"text-align: right;\">\n",
       "      <th></th>\n",
       "      <th>Conductivity</th>\n",
       "      <th>Density</th>\n",
       "      <th>Specific heat</th>\n",
       "      <th>Width</th>\n",
       "      <th>Surface</th>\n",
       "    </tr>\n",
       "  </thead>\n",
       "  <tbody>\n",
       "    <tr>\n",
       "      <th>external_insulation</th>\n",
       "      <td>0.027</td>\n",
       "      <td>55.0</td>\n",
       "      <td>1210</td>\n",
       "      <td>0.160</td>\n",
       "      <td>83.4</td>\n",
       "    </tr>\n",
       "    <tr>\n",
       "      <th>internal_insulation</th>\n",
       "      <td>0.027</td>\n",
       "      <td>55.0</td>\n",
       "      <td>1210</td>\n",
       "      <td>0.050</td>\n",
       "      <td>10.4</td>\n",
       "    </tr>\n",
       "    <tr>\n",
       "      <th>concrete</th>\n",
       "      <td>1.400</td>\n",
       "      <td>2300.0</td>\n",
       "      <td>880</td>\n",
       "      <td>0.200</td>\n",
       "      <td>83.4</td>\n",
       "    </tr>\n",
       "    <tr>\n",
       "      <th>door</th>\n",
       "      <td>0.160</td>\n",
       "      <td>800.0</td>\n",
       "      <td>2385</td>\n",
       "      <td>0.070</td>\n",
       "      <td>3.2</td>\n",
       "    </tr>\n",
       "    <tr>\n",
       "      <th>Glass</th>\n",
       "      <td>1.400</td>\n",
       "      <td>2500.0</td>\n",
       "      <td>1210</td>\n",
       "      <td>0.008</td>\n",
       "      <td>5.0</td>\n",
       "    </tr>\n",
       "    <tr>\n",
       "      <th>placo</th>\n",
       "      <td>0.035</td>\n",
       "      <td>850.0</td>\n",
       "      <td>1200</td>\n",
       "      <td>0.020</td>\n",
       "      <td>93.8</td>\n",
       "    </tr>\n",
       "  </tbody>\n",
       "</table>\n",
       "</div>"
      ],
      "text/plain": [
       "                     Conductivity  Density  Specific heat  Width  Surface\n",
       "external_insulation         0.027     55.0           1210  0.160     83.4\n",
       "internal_insulation         0.027     55.0           1210  0.050     10.4\n",
       "concrete                    1.400   2300.0            880  0.200     83.4\n",
       "door                        0.160    800.0           2385  0.070      3.2\n",
       "Glass                       1.400   2500.0           1210  0.008      5.0\n",
       "placo                       0.035    850.0           1200  0.020     93.8"
      ]
     },
     "execution_count": 2,
     "metadata": {},
     "output_type": "execute_result"
    }
   ],
   "source": [
    "import numpy as np\n",
    "import pandas as pd\n",
    "import matplotlib.pyplot as plt\n",
    "import dm4bem\n",
    "import tuto\n",
    "\n",
    "concrete = {'Conductivity': 1.400,\n",
    "            'Density': 2300.0,\n",
    "            'Specific heat': 880,\n",
    "            'Width': 0.2,\n",
    "            'Surface': 2*10*3 + 2*5*3 - 1.25*1 - 2.5*1.5 - 0.8*2}\n",
    "\n",
    "external_insulation = {'Conductivity': 0.027,\n",
    "              'Density': 55.0,\n",
    "              'Specific heat': 1210,\n",
    "              'Width': 0.16,\n",
    "              'Surface': 2*10*3 + 2*5*3 - 1.25*1 - 2.5*1.5 - 0.8*2}\n",
    "              \n",
    "internal_insulation = {'Conductivity': 0.027,\n",
    "              'Density': 55.0,\n",
    "              'Specific heat': 1210,\n",
    "              'Width': 0.05,\n",
    "              'Surface': 2.5*3 + 1.5*3 - 0.8*2}\n",
    "\n",
    "\n",
    "placo = {'Conductivity': 0.035,\n",
    "              'Density': 850,\n",
    "              'Specific heat': 1200,\n",
    "              'Width': 0.02,\n",
    "              'Surface': 2*10*3 + 2*5*3 - 1.25*1 - 2.5*1.5 - 0.8*2 + 2.5*3 + 1.5*3 - 0.8*2}\n",
    "\n",
    "glass = {'Conductivity': 1.4,\n",
    "         'Density': 2500,\n",
    "         'Specific heat': 1210,\n",
    "         'Width': 0.008,\n",
    "         'Surface': 2.5*1.5 + 1.25*1}\n",
    "\n",
    "door = {'Conductivity': 0.16,\n",
    "         'Density': 800,\n",
    "         'Specific heat': 2385,\n",
    "         'Width': 0.07,\n",
    "         'Surface': 0.8*2 * 2}\n",
    "\n",
    "\n",
    "\n",
    "wall = pd.DataFrame.from_dict({'external_insulation': external_insulation,\n",
    "                               'internal_insulation': internal_insulation, \n",
    "                               'concrete': concrete,\n",
    "                               'door' : door,\n",
    "                               'Glass': glass,\n",
    "                               'placo': placo},\n",
    "                              orient='index')\n",
    "wall"
   ]
  },
  {
   "cell_type": "markdown",
   "id": "37c35834-2d2e-40ed-916e-9a49e5de90a5",
   "metadata": {},
   "source": [
    "Nous mettons également en évidence les radiations en fonction des matériaux : "
   ]
  },
  {
   "cell_type": "code",
   "execution_count": 3,
   "id": "a54e0fe4-1ff1-4883-ab83-cadb853e78e1",
   "metadata": {},
   "outputs": [],
   "source": [
    "# radiative properties\n",
    "ε_wLW = 0.85    # long wave emmisivity: wall surface (concrete)\n",
    "ε_gLW = 0.90    # long wave emmisivity: glass pyrex\n",
    "α_wSW = 0.25    # short wave absortivity: white smooth surface\n",
    "α_gSW = 0.38    # short wave absortivity: reflective blue glass\n",
    "τ_gSW = 0.30    # short wave transmitance: reflective blue glass"
   ]
  },
  {
   "cell_type": "markdown",
   "id": "979487bd-90a3-4ff2-abe0-2d6e2c8f3150",
   "metadata": {},
   "source": [
    "On rappelle également la constance de Boltzmann, qui nous sera utile pour la suite : "
   ]
  },
  {
   "cell_type": "code",
   "execution_count": 4,
   "id": "be4a24ed-b780-4ab6-a662-7a3fab57f786",
   "metadata": {},
   "outputs": [],
   "source": [
    "σ = 5.67e-8     # W/(m²⋅K⁴) Stefan-Bolzmann constant"
   ]
  },
  {
   "cell_type": "markdown",
   "id": "fe683633",
   "metadata": {},
   "source": [
    " Pour les coefficients de convection, on prendra les valeurs conventionnels pour ces coefficients etxtérieurs et intérieurs : "
   ]
  },
  {
   "cell_type": "code",
   "execution_count": 5,
   "id": "bc5c5474-eb17-40ed-990d-ec39a8722332",
   "metadata": {},
   "outputs": [],
   "source": [
    "h_in = 8\n",
    "h_out = 25"
   ]
  },
  {
   "cell_type": "markdown",
   "id": "a750de86",
   "metadata": {},
   "source": [
    "Nous allons maintenant calculer les conductances thermiques de notre pièce : on rappelle la formule de la conductance de conduction: "
   ]
  },
  {
   "attachments": {
    "download.png": {
     "image/png": "[encoded data removed]"
    }
   },
   "cell_type": "markdown",
   "id": "ec80be16",
   "metadata": {},
   "source": [
    "![download.png](attachment:download.png)"
   ]
  },
  {
   "cell_type": "code",
   "execution_count": 6,
   "id": "6b4394d7",
   "metadata": {},
   "outputs": [
    {
     "data": {
      "text/html": [
       "<div>\n",
       "<style scoped>\n",
       "    .dataframe tbody tr th:only-of-type {\n",
       "        vertical-align: middle;\n",
       "    }\n",
       "\n",
       "    .dataframe tbody tr th {\n",
       "        vertical-align: top;\n",
       "    }\n",
       "\n",
       "    .dataframe thead th {\n",
       "        text-align: right;\n",
       "    }\n",
       "</style>\n",
       "<table border=\"1\" class=\"dataframe\">\n",
       "  <thead>\n",
       "    <tr style=\"text-align: right;\">\n",
       "      <th></th>\n",
       "      <th>Conductance</th>\n",
       "    </tr>\n",
       "  </thead>\n",
       "  <tbody>\n",
       "    <tr>\n",
       "      <th>external_insulation</th>\n",
       "      <td>14.073750</td>\n",
       "    </tr>\n",
       "    <tr>\n",
       "      <th>internal_insulation</th>\n",
       "      <td>5.616000</td>\n",
       "    </tr>\n",
       "    <tr>\n",
       "      <th>concrete</th>\n",
       "      <td>583.800000</td>\n",
       "    </tr>\n",
       "    <tr>\n",
       "      <th>door</th>\n",
       "      <td>7.314286</td>\n",
       "    </tr>\n",
       "    <tr>\n",
       "      <th>Glass</th>\n",
       "      <td>875.000000</td>\n",
       "    </tr>\n",
       "    <tr>\n",
       "      <th>placo</th>\n",
       "      <td>164.150000</td>\n",
       "    </tr>\n",
       "  </tbody>\n",
       "</table>\n",
       "</div>"
      ],
      "text/plain": [
       "                     Conductance\n",
       "external_insulation    14.073750\n",
       "internal_insulation     5.616000\n",
       "concrete              583.800000\n",
       "door                    7.314286\n",
       "Glass                 875.000000\n",
       "placo                 164.150000"
      ]
     },
     "execution_count": 6,
     "metadata": {},
     "output_type": "execute_result"
    }
   ],
   "source": [
    "Gcd = wall['Conductivity'] / wall['Width'] * wall['Surface']\n",
    "G_cd = pd.DataFrame(Gcd, columns={'Conductance'})\n",
    "G_cd\n"
   ]
  },
  {
   "cell_type": "markdown",
   "id": "f463d5dc",
   "metadata": {},
   "source": [
    "Pour la conductance de convection, on utilise la formule suivante : "
   ]
  },
  {
   "attachments": {
    "Capture.PNGee.PNG": {
     "image/png": "[encoded data removed]"
    }
   },
   "cell_type": "markdown",
   "id": "adbb8eef",
   "metadata": {},
   "source": [
    "![Capture.PNGee.PNG](attachment:Capture.PNGee.PNG)"
   ]
  },
  {
   "cell_type": "code",
   "execution_count": 7,
   "id": "43ec8860",
   "metadata": {},
   "outputs": [
    {
     "data": {
      "text/html": [
       "<div>\n",
       "<style scoped>\n",
       "    .dataframe tbody tr th:only-of-type {\n",
       "        vertical-align: middle;\n",
       "    }\n",
       "\n",
       "    .dataframe tbody tr th {\n",
       "        vertical-align: top;\n",
       "    }\n",
       "\n",
       "    .dataframe thead th {\n",
       "        text-align: right;\n",
       "    }\n",
       "</style>\n",
       "<table border=\"1\" class=\"dataframe\">\n",
       "  <thead>\n",
       "    <tr style=\"text-align: right;\">\n",
       "      <th></th>\n",
       "      <th>Convection</th>\n",
       "    </tr>\n",
       "  </thead>\n",
       "  <tbody>\n",
       "    <tr>\n",
       "      <th>Gp_in</th>\n",
       "      <td>667.2</td>\n",
       "    </tr>\n",
       "    <tr>\n",
       "      <th>Gc_in</th>\n",
       "      <td>62.9</td>\n",
       "    </tr>\n",
       "    <tr>\n",
       "      <th>Gg_in</th>\n",
       "      <td>40.0</td>\n",
       "    </tr>\n",
       "    <tr>\n",
       "      <th>Gd_in</th>\n",
       "      <td>25.6</td>\n",
       "    </tr>\n",
       "    <tr>\n",
       "      <th>Gc_out</th>\n",
       "      <td>2085.0</td>\n",
       "    </tr>\n",
       "    <tr>\n",
       "      <th>Gg_out</th>\n",
       "      <td>125.0</td>\n",
       "    </tr>\n",
       "    <tr>\n",
       "      <th>Gd_out</th>\n",
       "      <td>40.0</td>\n",
       "    </tr>\n",
       "  </tbody>\n",
       "</table>\n",
       "</div>"
      ],
      "text/plain": [
       "        Convection\n",
       "Gp_in        667.2\n",
       "Gc_in         62.9\n",
       "Gg_in         40.0\n",
       "Gd_in         25.6\n",
       "Gc_out      2085.0\n",
       "Gg_out       125.0\n",
       "Gd_out        40.0"
      ]
     },
     "execution_count": 7,
     "metadata": {},
     "output_type": "execute_result"
    }
   ],
   "source": [
    "Gp_in = h_in * wall['Surface'][2]       # placo_in\n",
    "Gc_in = h_in * 2.5*3 + 1.5*3 - 0.8*2       # cloison_in\n",
    "Gg_in = h_in * wall['Surface'][4]       # glass_in\n",
    "Gd_in = h_in * wall['Surface'][3]       #door_in\n",
    "Gc_out = h_out * wall['Surface'][2]     # concrete_out\n",
    "Gg_out = h_out * wall['Surface'][4]     # glass_out\n",
    "Gd_out = h_out * wall['Surface'][3] /2  #door_out\n",
    "\n",
    "\n",
    "convection = pd.DataFrame.from_dict({'Gp_in': Gp_in,\n",
    "                               'Gc_in': Gc_in,\n",
    "                               'Gg_in': Gg_in, \n",
    "                               'Gd_in': Gd_in,\n",
    "                               'Gc_out' : Gc_out,\n",
    "                               'Gg_out': Gg_out,\n",
    "                               'Gd_out': Gd_out},\n",
    "                              orient='index',columns={'Convection'})\n",
    "convection"
   ]
  },
  {
   "cell_type": "markdown",
   "id": "21b8e9fa",
   "metadata": {},
   "source": [
    "Calculons maintenant les rayonnement à ondes longues. On trouve d'abord l'émissivité de chaque matériaux, et le facteur de forme entre vitre et mur : "
   ]
  },
  {
   "cell_type": "code",
   "execution_count": 8,
   "id": "ea535f53",
   "metadata": {},
   "outputs": [
    {
     "name": "stdout",
     "output_type": "stream",
     "text": [
      "GLW1 = 4810.728469070163 \n",
      "GLW12 = 28.524360438 \n",
      "GLW2 = 328.0301450370002\n"
     ]
    }
   ],
   "source": [
    "# long wave radiation\n",
    "Tm = 20 + 273   # K, mean temp for radiative exchange\n",
    "ε_wLW = 0.91\n",
    "ε_gLW = 0.92\n",
    "Fwg = wall['Surface'][4] / wall['Surface'][2]\n",
    "\n",
    "GLW1 = 4 * σ * Tm**3 * ε_wLW / (1 - ε_wLW) * wall['Surface']['concrete']\n",
    "GLW12 = 4 * σ * Tm**3 * Fwg * wall['Surface']['concrete']\n",
    "GLW2 = 4 * σ * Tm**3 * ε_gLW / (1 - ε_gLW) * wall['Surface']['Glass']\n",
    "print ('GLW1 =',GLW1,'\\nGLW12 =',GLW12,'\\nGLW2 =',GLW2 )"
   ]
  },
  {
   "cell_type": "markdown",
   "id": "2551d6a3",
   "metadata": {},
   "source": [
    "Et donc la conductance équivalente entre les murs et les vitres est : "
   ]
  },
  {
   "cell_type": "code",
   "execution_count": 9,
   "id": "74ebc24d",
   "metadata": {},
   "outputs": [
    {
     "name": "stdout",
     "output_type": "stream",
     "text": [
      "GLW = 26.100036512489464\n"
     ]
    }
   ],
   "source": [
    "GLW = 1 / (1 / GLW1 + 1 / GLW12 + 1 / GLW2)\n",
    "print ('GLW =',GLW)"
   ]
  },
  {
   "cell_type": "markdown",
   "id": "2589aa64",
   "metadata": {},
   "source": [
    "On va aussi calculer l'advection du système de ventilation en utilisant la formule ci-contre : "
   ]
  },
  {
   "attachments": {
    "Capture.PNG": {
     "image/png": "[encoded data removed]"
    }
   },
   "cell_type": "markdown",
   "id": "f2d52479",
   "metadata": {},
   "source": [
    "![Capture.PNG](attachment:Capture.PNG)"
   ]
  },
  {
   "cell_type": "code",
   "execution_count": 10,
   "id": "11e27a40",
   "metadata": {},
   "outputs": [
    {
     "name": "stdout",
     "output_type": "stream",
     "text": [
      "Va_dot =  0.041666666666666664\n"
     ]
    }
   ],
   "source": [
    "# ventilation flow rate\n",
    "Va = 5 * 10 * 3     \n",
    "ACH = 1  # air changes per hour\n",
    "Va_dot = ACH / 3600 * Va    # m³/s, air infiltration\n",
    "print (\"Va_dot = \",Va_dot)"
   ]
  },
  {
   "cell_type": "markdown",
   "id": "362a0db0",
   "metadata": {},
   "source": [
    "Et donc la conductance de l'advection est égale à : "
   ]
  },
  {
   "attachments": {
    "Capture.PNG": {
     "image/png": "[encoded data removed]"
    }
   },
   "cell_type": "markdown",
   "id": "7d09c390",
   "metadata": {},
   "source": [
    "![Capture.PNG](attachment:Capture.PNG)"
   ]
  },
  {
   "cell_type": "code",
   "execution_count": 11,
   "id": "045319d8",
   "metadata": {},
   "outputs": [
    {
     "name": "stdout",
     "output_type": "stream",
     "text": [
      "Gv =  50.0\n"
     ]
    }
   ],
   "source": [
    "p_air = 1.2                \n",
    "Cs_air = 1000\n",
    "Gv = p_air * Cs_air * Va_dot \n",
    "print (\"Gv = \", Gv)"
   ]
  },
  {
   "cell_type": "markdown",
   "id": "79b1b9aa",
   "metadata": {},
   "source": [
    "6. Calculs des capacités thermiques"
   ]
  },
  {
   "cell_type": "markdown",
   "id": "dc4a2ec7",
   "metadata": {},
   "source": [
    "Calculons maintenant les capacités thermiques de chaque matériaux de notre bâtiment : "
   ]
  },
  {
   "cell_type": "markdown",
   "id": "67d9cbcb",
   "metadata": {},
   "source": [
    "Pour les murs, utilisons la formule suivante : "
   ]
  },
  {
   "attachments": {
    "Capture.PNG": {
     "image/png": "[encoded data removed]"
    }
   },
   "cell_type": "markdown",
   "id": "a98ba6d3",
   "metadata": {},
   "source": [
    "![Capture.PNG](attachment:Capture.PNG)"
   ]
  },
  {
   "cell_type": "markdown",
   "id": "3605cefc",
   "metadata": {},
   "source": [
    "Et pour l'air : "
   ]
  },
  {
   "attachments": {
    "Capture.PNG": {
     "image/png": "[encoded data removed]"
    }
   },
   "cell_type": "markdown",
   "id": "02d22649",
   "metadata": {},
   "source": [
    "![Capture.PNG](attachment:Capture.PNG)"
   ]
  },
  {
   "cell_type": "code",
   "execution_count": 12,
   "id": "27cd285a",
   "metadata": {},
   "outputs": [
    {
     "data": {
      "text/html": [
       "<div>\n",
       "<style scoped>\n",
       "    .dataframe tbody tr th:only-of-type {\n",
       "        vertical-align: middle;\n",
       "    }\n",
       "\n",
       "    .dataframe tbody tr th {\n",
       "        vertical-align: top;\n",
       "    }\n",
       "\n",
       "    .dataframe thead th {\n",
       "        text-align: right;\n",
       "    }\n",
       "</style>\n",
       "<table border=\"1\" class=\"dataframe\">\n",
       "  <thead>\n",
       "    <tr style=\"text-align: right;\">\n",
       "      <th></th>\n",
       "      <th>Capacity</th>\n",
       "    </tr>\n",
       "  </thead>\n",
       "  <tbody>\n",
       "    <tr>\n",
       "      <th>external_insulation</th>\n",
       "      <td>888043.2</td>\n",
       "    </tr>\n",
       "    <tr>\n",
       "      <th>internal_insulation</th>\n",
       "      <td>34606.0</td>\n",
       "    </tr>\n",
       "    <tr>\n",
       "      <th>concrete</th>\n",
       "      <td>33760320.0</td>\n",
       "    </tr>\n",
       "    <tr>\n",
       "      <th>door</th>\n",
       "      <td>427392.0</td>\n",
       "    </tr>\n",
       "    <tr>\n",
       "      <th>Glass</th>\n",
       "      <td>121000.0</td>\n",
       "    </tr>\n",
       "    <tr>\n",
       "      <th>placo</th>\n",
       "      <td>1913520.0</td>\n",
       "    </tr>\n",
       "    <tr>\n",
       "      <th>Air</th>\n",
       "      <td>180000.0</td>\n",
       "    </tr>\n",
       "  </tbody>\n",
       "</table>\n",
       "</div>"
      ],
      "text/plain": [
       "                       Capacity\n",
       "external_insulation    888043.2\n",
       "internal_insulation     34606.0\n",
       "concrete             33760320.0\n",
       "door                   427392.0\n",
       "Glass                  121000.0\n",
       "placo                 1913520.0\n",
       "Air                    180000.0"
      ]
     },
     "execution_count": 12,
     "metadata": {},
     "output_type": "execute_result"
    }
   ],
   "source": [
    "C = wall['Density'] * wall['Specific heat'] * wall['Surface'] * wall['Width']\n",
    "\n",
    "C['Air'] = p_air * Cs_air * Va\n",
    "capacity = pd.DataFrame(C, columns={'Capacity'})\n",
    "capacity"
   ]
  },
  {
   "cell_type": "markdown",
   "id": "6a103905",
   "metadata": {},
   "source": [
    "7. Définition des matrices"
   ]
  },
  {
   "cell_type": "markdown",
   "id": "43ff14c0",
   "metadata": {},
   "source": [
    "On définit d'abord la valeur du gain du controller (On le prend pas trop grand pour une question de stabilité) : "
   ]
  },
  {
   "cell_type": "code",
   "execution_count": 55,
   "id": "93a2fa8a",
   "metadata": {},
   "outputs": [],
   "source": [
    "Kp = 1e-3"
   ]
  },
  {
   "cell_type": "markdown",
   "id": "b2838a37",
   "metadata": {},
   "source": [
    "On peut alors définir les matrices souhaitées : "
   ]
  },
  {
   "cell_type": "code",
   "execution_count": 35,
   "id": "707c008e",
   "metadata": {},
   "outputs": [
    {
     "data": {
      "text/html": [
       "<div>\n",
       "<style scoped>\n",
       "    .dataframe tbody tr th:only-of-type {\n",
       "        vertical-align: middle;\n",
       "    }\n",
       "\n",
       "    .dataframe tbody tr th {\n",
       "        vertical-align: top;\n",
       "    }\n",
       "\n",
       "    .dataframe thead th {\n",
       "        text-align: right;\n",
       "    }\n",
       "</style>\n",
       "<table border=\"1\" class=\"dataframe\">\n",
       "  <thead>\n",
       "    <tr style=\"text-align: right;\">\n",
       "      <th></th>\n",
       "      <th>0</th>\n",
       "      <th>1</th>\n",
       "      <th>2</th>\n",
       "      <th>3</th>\n",
       "      <th>4</th>\n",
       "      <th>5</th>\n",
       "      <th>6</th>\n",
       "      <th>7</th>\n",
       "      <th>8</th>\n",
       "      <th>9</th>\n",
       "      <th>10</th>\n",
       "      <th>11</th>\n",
       "      <th>12</th>\n",
       "      <th>13</th>\n",
       "    </tr>\n",
       "  </thead>\n",
       "  <tbody>\n",
       "    <tr>\n",
       "      <th>0</th>\n",
       "      <td>1.0</td>\n",
       "      <td>0.0</td>\n",
       "      <td>0.0</td>\n",
       "      <td>0.0</td>\n",
       "      <td>0.0</td>\n",
       "      <td>0.0</td>\n",
       "      <td>0.0</td>\n",
       "      <td>0.0</td>\n",
       "      <td>0.0</td>\n",
       "      <td>0.0</td>\n",
       "      <td>0.0</td>\n",
       "      <td>0.0</td>\n",
       "      <td>0.0</td>\n",
       "      <td>0.0</td>\n",
       "    </tr>\n",
       "    <tr>\n",
       "      <th>1</th>\n",
       "      <td>-1.0</td>\n",
       "      <td>1.0</td>\n",
       "      <td>0.0</td>\n",
       "      <td>0.0</td>\n",
       "      <td>0.0</td>\n",
       "      <td>0.0</td>\n",
       "      <td>0.0</td>\n",
       "      <td>0.0</td>\n",
       "      <td>0.0</td>\n",
       "      <td>0.0</td>\n",
       "      <td>0.0</td>\n",
       "      <td>0.0</td>\n",
       "      <td>0.0</td>\n",
       "      <td>0.0</td>\n",
       "    </tr>\n",
       "    <tr>\n",
       "      <th>2</th>\n",
       "      <td>0.0</td>\n",
       "      <td>-1.0</td>\n",
       "      <td>1.0</td>\n",
       "      <td>0.0</td>\n",
       "      <td>0.0</td>\n",
       "      <td>0.0</td>\n",
       "      <td>0.0</td>\n",
       "      <td>0.0</td>\n",
       "      <td>0.0</td>\n",
       "      <td>0.0</td>\n",
       "      <td>0.0</td>\n",
       "      <td>0.0</td>\n",
       "      <td>0.0</td>\n",
       "      <td>0.0</td>\n",
       "    </tr>\n",
       "    <tr>\n",
       "      <th>3</th>\n",
       "      <td>0.0</td>\n",
       "      <td>0.0</td>\n",
       "      <td>-1.0</td>\n",
       "      <td>1.0</td>\n",
       "      <td>0.0</td>\n",
       "      <td>0.0</td>\n",
       "      <td>0.0</td>\n",
       "      <td>0.0</td>\n",
       "      <td>0.0</td>\n",
       "      <td>0.0</td>\n",
       "      <td>0.0</td>\n",
       "      <td>0.0</td>\n",
       "      <td>0.0</td>\n",
       "      <td>0.0</td>\n",
       "    </tr>\n",
       "    <tr>\n",
       "      <th>4</th>\n",
       "      <td>0.0</td>\n",
       "      <td>0.0</td>\n",
       "      <td>0.0</td>\n",
       "      <td>-1.0</td>\n",
       "      <td>1.0</td>\n",
       "      <td>0.0</td>\n",
       "      <td>0.0</td>\n",
       "      <td>0.0</td>\n",
       "      <td>0.0</td>\n",
       "      <td>0.0</td>\n",
       "      <td>0.0</td>\n",
       "      <td>0.0</td>\n",
       "      <td>0.0</td>\n",
       "      <td>0.0</td>\n",
       "    </tr>\n",
       "    <tr>\n",
       "      <th>5</th>\n",
       "      <td>0.0</td>\n",
       "      <td>0.0</td>\n",
       "      <td>0.0</td>\n",
       "      <td>0.0</td>\n",
       "      <td>-1.0</td>\n",
       "      <td>1.0</td>\n",
       "      <td>0.0</td>\n",
       "      <td>0.0</td>\n",
       "      <td>0.0</td>\n",
       "      <td>0.0</td>\n",
       "      <td>0.0</td>\n",
       "      <td>0.0</td>\n",
       "      <td>0.0</td>\n",
       "      <td>0.0</td>\n",
       "    </tr>\n",
       "    <tr>\n",
       "      <th>6</th>\n",
       "      <td>0.0</td>\n",
       "      <td>0.0</td>\n",
       "      <td>0.0</td>\n",
       "      <td>0.0</td>\n",
       "      <td>0.0</td>\n",
       "      <td>-1.0</td>\n",
       "      <td>1.0</td>\n",
       "      <td>0.0</td>\n",
       "      <td>0.0</td>\n",
       "      <td>0.0</td>\n",
       "      <td>0.0</td>\n",
       "      <td>0.0</td>\n",
       "      <td>0.0</td>\n",
       "      <td>0.0</td>\n",
       "    </tr>\n",
       "    <tr>\n",
       "      <th>7</th>\n",
       "      <td>0.0</td>\n",
       "      <td>0.0</td>\n",
       "      <td>0.0</td>\n",
       "      <td>0.0</td>\n",
       "      <td>0.0</td>\n",
       "      <td>0.0</td>\n",
       "      <td>-1.0</td>\n",
       "      <td>1.0</td>\n",
       "      <td>0.0</td>\n",
       "      <td>0.0</td>\n",
       "      <td>0.0</td>\n",
       "      <td>0.0</td>\n",
       "      <td>0.0</td>\n",
       "      <td>0.0</td>\n",
       "    </tr>\n",
       "    <tr>\n",
       "      <th>8</th>\n",
       "      <td>0.0</td>\n",
       "      <td>0.0</td>\n",
       "      <td>0.0</td>\n",
       "      <td>0.0</td>\n",
       "      <td>0.0</td>\n",
       "      <td>0.0</td>\n",
       "      <td>0.0</td>\n",
       "      <td>1.0</td>\n",
       "      <td>0.0</td>\n",
       "      <td>0.0</td>\n",
       "      <td>0.0</td>\n",
       "      <td>0.0</td>\n",
       "      <td>0.0</td>\n",
       "      <td>0.0</td>\n",
       "    </tr>\n",
       "    <tr>\n",
       "      <th>9</th>\n",
       "      <td>0.0</td>\n",
       "      <td>0.0</td>\n",
       "      <td>0.0</td>\n",
       "      <td>0.0</td>\n",
       "      <td>0.0</td>\n",
       "      <td>0.0</td>\n",
       "      <td>0.0</td>\n",
       "      <td>1.0</td>\n",
       "      <td>0.0</td>\n",
       "      <td>0.0</td>\n",
       "      <td>0.0</td>\n",
       "      <td>0.0</td>\n",
       "      <td>0.0</td>\n",
       "      <td>0.0</td>\n",
       "    </tr>\n",
       "    <tr>\n",
       "      <th>10</th>\n",
       "      <td>0.0</td>\n",
       "      <td>0.0</td>\n",
       "      <td>0.0</td>\n",
       "      <td>0.0</td>\n",
       "      <td>0.0</td>\n",
       "      <td>0.0</td>\n",
       "      <td>0.0</td>\n",
       "      <td>0.0</td>\n",
       "      <td>1.0</td>\n",
       "      <td>-1.0</td>\n",
       "      <td>0.0</td>\n",
       "      <td>0.0</td>\n",
       "      <td>0.0</td>\n",
       "      <td>0.0</td>\n",
       "    </tr>\n",
       "    <tr>\n",
       "      <th>11</th>\n",
       "      <td>0.0</td>\n",
       "      <td>0.0</td>\n",
       "      <td>0.0</td>\n",
       "      <td>0.0</td>\n",
       "      <td>0.0</td>\n",
       "      <td>0.0</td>\n",
       "      <td>0.0</td>\n",
       "      <td>0.0</td>\n",
       "      <td>0.0</td>\n",
       "      <td>1.0</td>\n",
       "      <td>-1.0</td>\n",
       "      <td>0.0</td>\n",
       "      <td>0.0</td>\n",
       "      <td>0.0</td>\n",
       "    </tr>\n",
       "    <tr>\n",
       "      <th>12</th>\n",
       "      <td>0.0</td>\n",
       "      <td>0.0</td>\n",
       "      <td>0.0</td>\n",
       "      <td>0.0</td>\n",
       "      <td>0.0</td>\n",
       "      <td>0.0</td>\n",
       "      <td>0.0</td>\n",
       "      <td>0.0</td>\n",
       "      <td>0.0</td>\n",
       "      <td>0.0</td>\n",
       "      <td>1.0</td>\n",
       "      <td>-1.0</td>\n",
       "      <td>0.0</td>\n",
       "      <td>0.0</td>\n",
       "    </tr>\n",
       "    <tr>\n",
       "      <th>13</th>\n",
       "      <td>0.0</td>\n",
       "      <td>0.0</td>\n",
       "      <td>0.0</td>\n",
       "      <td>0.0</td>\n",
       "      <td>0.0</td>\n",
       "      <td>0.0</td>\n",
       "      <td>0.0</td>\n",
       "      <td>0.0</td>\n",
       "      <td>0.0</td>\n",
       "      <td>0.0</td>\n",
       "      <td>0.0</td>\n",
       "      <td>1.0</td>\n",
       "      <td>-1.0</td>\n",
       "      <td>0.0</td>\n",
       "    </tr>\n",
       "    <tr>\n",
       "      <th>14</th>\n",
       "      <td>0.0</td>\n",
       "      <td>0.0</td>\n",
       "      <td>0.0</td>\n",
       "      <td>0.0</td>\n",
       "      <td>0.0</td>\n",
       "      <td>0.0</td>\n",
       "      <td>0.0</td>\n",
       "      <td>0.0</td>\n",
       "      <td>0.0</td>\n",
       "      <td>0.0</td>\n",
       "      <td>0.0</td>\n",
       "      <td>0.0</td>\n",
       "      <td>1.0</td>\n",
       "      <td>-1.0</td>\n",
       "    </tr>\n",
       "    <tr>\n",
       "      <th>15</th>\n",
       "      <td>0.0</td>\n",
       "      <td>0.0</td>\n",
       "      <td>0.0</td>\n",
       "      <td>0.0</td>\n",
       "      <td>0.0</td>\n",
       "      <td>0.0</td>\n",
       "      <td>0.0</td>\n",
       "      <td>0.0</td>\n",
       "      <td>0.0</td>\n",
       "      <td>0.0</td>\n",
       "      <td>0.0</td>\n",
       "      <td>0.0</td>\n",
       "      <td>0.0</td>\n",
       "      <td>1.0</td>\n",
       "    </tr>\n",
       "    <tr>\n",
       "      <th>16</th>\n",
       "      <td>0.0</td>\n",
       "      <td>0.0</td>\n",
       "      <td>0.0</td>\n",
       "      <td>0.0</td>\n",
       "      <td>0.0</td>\n",
       "      <td>0.0</td>\n",
       "      <td>0.0</td>\n",
       "      <td>1.0</td>\n",
       "      <td>-1.0</td>\n",
       "      <td>0.0</td>\n",
       "      <td>0.0</td>\n",
       "      <td>0.0</td>\n",
       "      <td>0.0</td>\n",
       "      <td>0.0</td>\n",
       "    </tr>\n",
       "    <tr>\n",
       "      <th>17</th>\n",
       "      <td>0.0</td>\n",
       "      <td>0.0</td>\n",
       "      <td>0.0</td>\n",
       "      <td>0.0</td>\n",
       "      <td>0.0</td>\n",
       "      <td>0.0</td>\n",
       "      <td>0.0</td>\n",
       "      <td>1.0</td>\n",
       "      <td>0.0</td>\n",
       "      <td>0.0</td>\n",
       "      <td>0.0</td>\n",
       "      <td>0.0</td>\n",
       "      <td>0.0</td>\n",
       "      <td>0.0</td>\n",
       "    </tr>\n",
       "    <tr>\n",
       "      <th>18</th>\n",
       "      <td>0.0</td>\n",
       "      <td>0.0</td>\n",
       "      <td>0.0</td>\n",
       "      <td>0.0</td>\n",
       "      <td>0.0</td>\n",
       "      <td>0.0</td>\n",
       "      <td>0.0</td>\n",
       "      <td>1.0</td>\n",
       "      <td>0.0</td>\n",
       "      <td>0.0</td>\n",
       "      <td>0.0</td>\n",
       "      <td>0.0</td>\n",
       "      <td>0.0</td>\n",
       "      <td>0.0</td>\n",
       "    </tr>\n",
       "    <tr>\n",
       "      <th>19</th>\n",
       "      <td>0.0</td>\n",
       "      <td>0.0</td>\n",
       "      <td>0.0</td>\n",
       "      <td>0.0</td>\n",
       "      <td>0.0</td>\n",
       "      <td>0.0</td>\n",
       "      <td>0.0</td>\n",
       "      <td>1.0</td>\n",
       "      <td>0.0</td>\n",
       "      <td>0.0</td>\n",
       "      <td>0.0</td>\n",
       "      <td>0.0</td>\n",
       "      <td>0.0</td>\n",
       "      <td>0.0</td>\n",
       "    </tr>\n",
       "  </tbody>\n",
       "</table>\n",
       "</div>"
      ],
      "text/plain": [
       "     0    1    2    3    4    5    6    7    8    9    10   11   12   13\n",
       "0   1.0  0.0  0.0  0.0  0.0  0.0  0.0  0.0  0.0  0.0  0.0  0.0  0.0  0.0\n",
       "1  -1.0  1.0  0.0  0.0  0.0  0.0  0.0  0.0  0.0  0.0  0.0  0.0  0.0  0.0\n",
       "2   0.0 -1.0  1.0  0.0  0.0  0.0  0.0  0.0  0.0  0.0  0.0  0.0  0.0  0.0\n",
       "3   0.0  0.0 -1.0  1.0  0.0  0.0  0.0  0.0  0.0  0.0  0.0  0.0  0.0  0.0\n",
       "4   0.0  0.0  0.0 -1.0  1.0  0.0  0.0  0.0  0.0  0.0  0.0  0.0  0.0  0.0\n",
       "5   0.0  0.0  0.0  0.0 -1.0  1.0  0.0  0.0  0.0  0.0  0.0  0.0  0.0  0.0\n",
       "6   0.0  0.0  0.0  0.0  0.0 -1.0  1.0  0.0  0.0  0.0  0.0  0.0  0.0  0.0\n",
       "7   0.0  0.0  0.0  0.0  0.0  0.0 -1.0  1.0  0.0  0.0  0.0  0.0  0.0  0.0\n",
       "8   0.0  0.0  0.0  0.0  0.0  0.0  0.0  1.0  0.0  0.0  0.0  0.0  0.0  0.0\n",
       "9   0.0  0.0  0.0  0.0  0.0  0.0  0.0  1.0  0.0  0.0  0.0  0.0  0.0  0.0\n",
       "10  0.0  0.0  0.0  0.0  0.0  0.0  0.0  0.0  1.0 -1.0  0.0  0.0  0.0  0.0\n",
       "11  0.0  0.0  0.0  0.0  0.0  0.0  0.0  0.0  0.0  1.0 -1.0  0.0  0.0  0.0\n",
       "12  0.0  0.0  0.0  0.0  0.0  0.0  0.0  0.0  0.0  0.0  1.0 -1.0  0.0  0.0\n",
       "13  0.0  0.0  0.0  0.0  0.0  0.0  0.0  0.0  0.0  0.0  0.0  1.0 -1.0  0.0\n",
       "14  0.0  0.0  0.0  0.0  0.0  0.0  0.0  0.0  0.0  0.0  0.0  0.0  1.0 -1.0\n",
       "15  0.0  0.0  0.0  0.0  0.0  0.0  0.0  0.0  0.0  0.0  0.0  0.0  0.0  1.0\n",
       "16  0.0  0.0  0.0  0.0  0.0  0.0  0.0  1.0 -1.0  0.0  0.0  0.0  0.0  0.0\n",
       "17  0.0  0.0  0.0  0.0  0.0  0.0  0.0  1.0  0.0  0.0  0.0  0.0  0.0  0.0\n",
       "18  0.0  0.0  0.0  0.0  0.0  0.0  0.0  1.0  0.0  0.0  0.0  0.0  0.0  0.0\n",
       "19  0.0  0.0  0.0  0.0  0.0  0.0  0.0  1.0  0.0  0.0  0.0  0.0  0.0  0.0"
      ]
     },
     "execution_count": 35,
     "metadata": {},
     "output_type": "execute_result"
    }
   ],
   "source": [
    "A = np.zeros([20, 14])       # n° of branches X n° of nodes\n",
    "A[0, 0] = 1                 # branch 0: -> node 0\n",
    "A[1, 0], A[1, 1] = -1, 1    # branch 1: node 0 -> node 1\n",
    "A[2, 1], A[2, 2] = -1, 1    # branch 2: node 1 -> node 2\n",
    "A[3, 2], A[3, 3] = -1, 1    # branch 3: node 2 -> node 3\n",
    "A[4, 3], A[4, 4] = -1, 1    # branch 4: node 3 -> node 4\n",
    "A[5, 4], A[5, 5] = -1, 1    # branch 5: node 4 -> node 5\n",
    "A[6, 5], A[6, 6] = -1, 1    # branch 6: node 5 -> node 6\n",
    "A[7, 6], A[7, 7] = -1, 1    # branch 7: node 6 -> node 7\n",
    "A[8, 7] = 1                 # branch 8: -> node 7\n",
    "A[9, 7] = 1                 # branch 9: -> node 7\n",
    "A[17, 7] = 1                # branch 17: -> node 7\n",
    "A[18, 7] = 1                # branch 18: -> node 7\n",
    "A[19, 7] = 1                # branch 19: -> node 7\n",
    "A[15, 13] = 1                   # branch 15: -> node 13\n",
    "A[14, 13], A[14, 12] = -1, 1    # branch 14: node 13 -> node 12\n",
    "A[13, 12], A[13, 11] = -1, 1    # branch 13: node 12 -> node 11\n",
    "A[12, 11], A[12, 10] = -1, 1    # branch 12: node 11 -> node 10\n",
    "A[11, 10], A[11, 9] = -1, 1     # branch 11: node 10 -> node 9\n",
    "A[10, 9], A[10, 8] = -1, 1      # branch 10: node 9 -> node 8\n",
    "A[16, 8], A[16, 7] = -1, 1      # branch 16: node 8 -> node 7\n",
    "\n",
    "# np.set_printoptions(suppress=False)\n",
    "pd.DataFrame(A)"
   ]
  },
  {
   "cell_type": "code",
   "execution_count": 36,
   "id": "cb7a35a8",
   "metadata": {},
   "outputs": [
    {
     "data": {
      "text/html": [
       "<div>\n",
       "<style scoped>\n",
       "    .dataframe tbody tr th:only-of-type {\n",
       "        vertical-align: middle;\n",
       "    }\n",
       "\n",
       "    .dataframe tbody tr th {\n",
       "        vertical-align: top;\n",
       "    }\n",
       "\n",
       "    .dataframe thead th {\n",
       "        text-align: right;\n",
       "    }\n",
       "</style>\n",
       "<table border=\"1\" class=\"dataframe\">\n",
       "  <thead>\n",
       "    <tr style=\"text-align: right;\">\n",
       "      <th></th>\n",
       "      <th>0</th>\n",
       "      <th>1</th>\n",
       "      <th>2</th>\n",
       "      <th>3</th>\n",
       "      <th>4</th>\n",
       "      <th>5</th>\n",
       "      <th>6</th>\n",
       "      <th>7</th>\n",
       "      <th>8</th>\n",
       "      <th>9</th>\n",
       "      <th>10</th>\n",
       "      <th>11</th>\n",
       "      <th>12</th>\n",
       "      <th>13</th>\n",
       "      <th>14</th>\n",
       "      <th>15</th>\n",
       "      <th>16</th>\n",
       "      <th>17</th>\n",
       "      <th>18</th>\n",
       "      <th>19</th>\n",
       "    </tr>\n",
       "  </thead>\n",
       "  <tbody>\n",
       "    <tr>\n",
       "      <th>0</th>\n",
       "      <td>2085.0</td>\n",
       "      <td>0.0</td>\n",
       "      <td>0.0</td>\n",
       "      <td>0.00000</td>\n",
       "      <td>0.00000</td>\n",
       "      <td>0.00</td>\n",
       "      <td>0.00</td>\n",
       "      <td>0.000000</td>\n",
       "      <td>0.000</td>\n",
       "      <td>0.000000</td>\n",
       "      <td>0.00</td>\n",
       "      <td>0.00</td>\n",
       "      <td>0.000</td>\n",
       "      <td>0.000</td>\n",
       "      <td>0.00</td>\n",
       "      <td>0.0</td>\n",
       "      <td>0.000000</td>\n",
       "      <td>0.0</td>\n",
       "      <td>0.0</td>\n",
       "      <td>0.000000</td>\n",
       "    </tr>\n",
       "    <tr>\n",
       "      <th>1</th>\n",
       "      <td>0.0</td>\n",
       "      <td>583.8</td>\n",
       "      <td>0.0</td>\n",
       "      <td>0.00000</td>\n",
       "      <td>0.00000</td>\n",
       "      <td>0.00</td>\n",
       "      <td>0.00</td>\n",
       "      <td>0.000000</td>\n",
       "      <td>0.000</td>\n",
       "      <td>0.000000</td>\n",
       "      <td>0.00</td>\n",
       "      <td>0.00</td>\n",
       "      <td>0.000</td>\n",
       "      <td>0.000</td>\n",
       "      <td>0.00</td>\n",
       "      <td>0.0</td>\n",
       "      <td>0.000000</td>\n",
       "      <td>0.0</td>\n",
       "      <td>0.0</td>\n",
       "      <td>0.000000</td>\n",
       "    </tr>\n",
       "    <tr>\n",
       "      <th>2</th>\n",
       "      <td>0.0</td>\n",
       "      <td>0.0</td>\n",
       "      <td>583.8</td>\n",
       "      <td>0.00000</td>\n",
       "      <td>0.00000</td>\n",
       "      <td>0.00</td>\n",
       "      <td>0.00</td>\n",
       "      <td>0.000000</td>\n",
       "      <td>0.000</td>\n",
       "      <td>0.000000</td>\n",
       "      <td>0.00</td>\n",
       "      <td>0.00</td>\n",
       "      <td>0.000</td>\n",
       "      <td>0.000</td>\n",
       "      <td>0.00</td>\n",
       "      <td>0.0</td>\n",
       "      <td>0.000000</td>\n",
       "      <td>0.0</td>\n",
       "      <td>0.0</td>\n",
       "      <td>0.000000</td>\n",
       "    </tr>\n",
       "    <tr>\n",
       "      <th>3</th>\n",
       "      <td>0.0</td>\n",
       "      <td>0.0</td>\n",
       "      <td>0.0</td>\n",
       "      <td>14.07375</td>\n",
       "      <td>0.00000</td>\n",
       "      <td>0.00</td>\n",
       "      <td>0.00</td>\n",
       "      <td>0.000000</td>\n",
       "      <td>0.000</td>\n",
       "      <td>0.000000</td>\n",
       "      <td>0.00</td>\n",
       "      <td>0.00</td>\n",
       "      <td>0.000</td>\n",
       "      <td>0.000</td>\n",
       "      <td>0.00</td>\n",
       "      <td>0.0</td>\n",
       "      <td>0.000000</td>\n",
       "      <td>0.0</td>\n",
       "      <td>0.0</td>\n",
       "      <td>0.000000</td>\n",
       "    </tr>\n",
       "    <tr>\n",
       "      <th>4</th>\n",
       "      <td>0.0</td>\n",
       "      <td>0.0</td>\n",
       "      <td>0.0</td>\n",
       "      <td>0.00000</td>\n",
       "      <td>14.07375</td>\n",
       "      <td>0.00</td>\n",
       "      <td>0.00</td>\n",
       "      <td>0.000000</td>\n",
       "      <td>0.000</td>\n",
       "      <td>0.000000</td>\n",
       "      <td>0.00</td>\n",
       "      <td>0.00</td>\n",
       "      <td>0.000</td>\n",
       "      <td>0.000</td>\n",
       "      <td>0.00</td>\n",
       "      <td>0.0</td>\n",
       "      <td>0.000000</td>\n",
       "      <td>0.0</td>\n",
       "      <td>0.0</td>\n",
       "      <td>0.000000</td>\n",
       "    </tr>\n",
       "    <tr>\n",
       "      <th>5</th>\n",
       "      <td>0.0</td>\n",
       "      <td>0.0</td>\n",
       "      <td>0.0</td>\n",
       "      <td>0.00000</td>\n",
       "      <td>0.00000</td>\n",
       "      <td>164.15</td>\n",
       "      <td>0.00</td>\n",
       "      <td>0.000000</td>\n",
       "      <td>0.000</td>\n",
       "      <td>0.000000</td>\n",
       "      <td>0.00</td>\n",
       "      <td>0.00</td>\n",
       "      <td>0.000</td>\n",
       "      <td>0.000</td>\n",
       "      <td>0.00</td>\n",
       "      <td>0.0</td>\n",
       "      <td>0.000000</td>\n",
       "      <td>0.0</td>\n",
       "      <td>0.0</td>\n",
       "      <td>0.000000</td>\n",
       "    </tr>\n",
       "    <tr>\n",
       "      <th>6</th>\n",
       "      <td>0.0</td>\n",
       "      <td>0.0</td>\n",
       "      <td>0.0</td>\n",
       "      <td>0.00000</td>\n",
       "      <td>0.00000</td>\n",
       "      <td>0.00</td>\n",
       "      <td>164.15</td>\n",
       "      <td>0.000000</td>\n",
       "      <td>0.000</td>\n",
       "      <td>0.000000</td>\n",
       "      <td>0.00</td>\n",
       "      <td>0.00</td>\n",
       "      <td>0.000</td>\n",
       "      <td>0.000</td>\n",
       "      <td>0.00</td>\n",
       "      <td>0.0</td>\n",
       "      <td>0.000000</td>\n",
       "      <td>0.0</td>\n",
       "      <td>0.0</td>\n",
       "      <td>0.000000</td>\n",
       "    </tr>\n",
       "    <tr>\n",
       "      <th>7</th>\n",
       "      <td>0.0</td>\n",
       "      <td>0.0</td>\n",
       "      <td>0.0</td>\n",
       "      <td>0.00000</td>\n",
       "      <td>0.00000</td>\n",
       "      <td>0.00</td>\n",
       "      <td>0.00</td>\n",
       "      <td>26.100037</td>\n",
       "      <td>0.000</td>\n",
       "      <td>0.000000</td>\n",
       "      <td>0.00</td>\n",
       "      <td>0.00</td>\n",
       "      <td>0.000</td>\n",
       "      <td>0.000</td>\n",
       "      <td>0.00</td>\n",
       "      <td>0.0</td>\n",
       "      <td>0.000000</td>\n",
       "      <td>0.0</td>\n",
       "      <td>0.0</td>\n",
       "      <td>0.000000</td>\n",
       "    </tr>\n",
       "    <tr>\n",
       "      <th>8</th>\n",
       "      <td>0.0</td>\n",
       "      <td>0.0</td>\n",
       "      <td>0.0</td>\n",
       "      <td>0.00000</td>\n",
       "      <td>0.00000</td>\n",
       "      <td>0.00</td>\n",
       "      <td>0.00</td>\n",
       "      <td>0.000000</td>\n",
       "      <td>0.001</td>\n",
       "      <td>0.000000</td>\n",
       "      <td>0.00</td>\n",
       "      <td>0.00</td>\n",
       "      <td>0.000</td>\n",
       "      <td>0.000</td>\n",
       "      <td>0.00</td>\n",
       "      <td>0.0</td>\n",
       "      <td>0.000000</td>\n",
       "      <td>0.0</td>\n",
       "      <td>0.0</td>\n",
       "      <td>0.000000</td>\n",
       "    </tr>\n",
       "    <tr>\n",
       "      <th>9</th>\n",
       "      <td>0.0</td>\n",
       "      <td>0.0</td>\n",
       "      <td>0.0</td>\n",
       "      <td>0.00000</td>\n",
       "      <td>0.00000</td>\n",
       "      <td>0.00</td>\n",
       "      <td>0.00</td>\n",
       "      <td>0.000000</td>\n",
       "      <td>0.000</td>\n",
       "      <td>7.314286</td>\n",
       "      <td>0.00</td>\n",
       "      <td>0.00</td>\n",
       "      <td>0.000</td>\n",
       "      <td>0.000</td>\n",
       "      <td>0.00</td>\n",
       "      <td>0.0</td>\n",
       "      <td>0.000000</td>\n",
       "      <td>0.0</td>\n",
       "      <td>0.0</td>\n",
       "      <td>0.000000</td>\n",
       "    </tr>\n",
       "    <tr>\n",
       "      <th>10</th>\n",
       "      <td>0.0</td>\n",
       "      <td>0.0</td>\n",
       "      <td>0.0</td>\n",
       "      <td>0.00000</td>\n",
       "      <td>0.00000</td>\n",
       "      <td>0.00</td>\n",
       "      <td>0.00</td>\n",
       "      <td>0.000000</td>\n",
       "      <td>0.000</td>\n",
       "      <td>0.000000</td>\n",
       "      <td>164.15</td>\n",
       "      <td>0.00</td>\n",
       "      <td>0.000</td>\n",
       "      <td>0.000</td>\n",
       "      <td>0.00</td>\n",
       "      <td>0.0</td>\n",
       "      <td>0.000000</td>\n",
       "      <td>0.0</td>\n",
       "      <td>0.0</td>\n",
       "      <td>0.000000</td>\n",
       "    </tr>\n",
       "    <tr>\n",
       "      <th>11</th>\n",
       "      <td>0.0</td>\n",
       "      <td>0.0</td>\n",
       "      <td>0.0</td>\n",
       "      <td>0.00000</td>\n",
       "      <td>0.00000</td>\n",
       "      <td>0.00</td>\n",
       "      <td>0.00</td>\n",
       "      <td>0.000000</td>\n",
       "      <td>0.000</td>\n",
       "      <td>0.000000</td>\n",
       "      <td>0.00</td>\n",
       "      <td>164.15</td>\n",
       "      <td>0.000</td>\n",
       "      <td>0.000</td>\n",
       "      <td>0.00</td>\n",
       "      <td>0.0</td>\n",
       "      <td>0.000000</td>\n",
       "      <td>0.0</td>\n",
       "      <td>0.0</td>\n",
       "      <td>0.000000</td>\n",
       "    </tr>\n",
       "    <tr>\n",
       "      <th>12</th>\n",
       "      <td>0.0</td>\n",
       "      <td>0.0</td>\n",
       "      <td>0.0</td>\n",
       "      <td>0.00000</td>\n",
       "      <td>0.00000</td>\n",
       "      <td>0.00</td>\n",
       "      <td>0.00</td>\n",
       "      <td>0.000000</td>\n",
       "      <td>0.000</td>\n",
       "      <td>0.000000</td>\n",
       "      <td>0.00</td>\n",
       "      <td>0.00</td>\n",
       "      <td>5.616</td>\n",
       "      <td>0.000</td>\n",
       "      <td>0.00</td>\n",
       "      <td>0.0</td>\n",
       "      <td>0.000000</td>\n",
       "      <td>0.0</td>\n",
       "      <td>0.0</td>\n",
       "      <td>0.000000</td>\n",
       "    </tr>\n",
       "    <tr>\n",
       "      <th>13</th>\n",
       "      <td>0.0</td>\n",
       "      <td>0.0</td>\n",
       "      <td>0.0</td>\n",
       "      <td>0.00000</td>\n",
       "      <td>0.00000</td>\n",
       "      <td>0.00</td>\n",
       "      <td>0.00</td>\n",
       "      <td>0.000000</td>\n",
       "      <td>0.000</td>\n",
       "      <td>0.000000</td>\n",
       "      <td>0.00</td>\n",
       "      <td>0.00</td>\n",
       "      <td>0.000</td>\n",
       "      <td>5.616</td>\n",
       "      <td>0.00</td>\n",
       "      <td>0.0</td>\n",
       "      <td>0.000000</td>\n",
       "      <td>0.0</td>\n",
       "      <td>0.0</td>\n",
       "      <td>0.000000</td>\n",
       "    </tr>\n",
       "    <tr>\n",
       "      <th>14</th>\n",
       "      <td>0.0</td>\n",
       "      <td>0.0</td>\n",
       "      <td>0.0</td>\n",
       "      <td>0.00000</td>\n",
       "      <td>0.00000</td>\n",
       "      <td>0.00</td>\n",
       "      <td>0.00</td>\n",
       "      <td>0.000000</td>\n",
       "      <td>0.000</td>\n",
       "      <td>0.000000</td>\n",
       "      <td>0.00</td>\n",
       "      <td>0.00</td>\n",
       "      <td>0.000</td>\n",
       "      <td>0.000</td>\n",
       "      <td>164.15</td>\n",
       "      <td>0.0</td>\n",
       "      <td>0.000000</td>\n",
       "      <td>0.0</td>\n",
       "      <td>0.0</td>\n",
       "      <td>0.000000</td>\n",
       "    </tr>\n",
       "    <tr>\n",
       "      <th>15</th>\n",
       "      <td>0.0</td>\n",
       "      <td>0.0</td>\n",
       "      <td>0.0</td>\n",
       "      <td>0.00000</td>\n",
       "      <td>0.00000</td>\n",
       "      <td>0.00</td>\n",
       "      <td>0.00</td>\n",
       "      <td>0.000000</td>\n",
       "      <td>0.000</td>\n",
       "      <td>0.000000</td>\n",
       "      <td>0.00</td>\n",
       "      <td>0.00</td>\n",
       "      <td>0.000</td>\n",
       "      <td>0.000</td>\n",
       "      <td>0.00</td>\n",
       "      <td>40.0</td>\n",
       "      <td>0.000000</td>\n",
       "      <td>0.0</td>\n",
       "      <td>0.0</td>\n",
       "      <td>0.000000</td>\n",
       "    </tr>\n",
       "    <tr>\n",
       "      <th>16</th>\n",
       "      <td>0.0</td>\n",
       "      <td>0.0</td>\n",
       "      <td>0.0</td>\n",
       "      <td>0.00000</td>\n",
       "      <td>0.00000</td>\n",
       "      <td>0.00</td>\n",
       "      <td>0.00</td>\n",
       "      <td>0.000000</td>\n",
       "      <td>0.000</td>\n",
       "      <td>0.000000</td>\n",
       "      <td>0.00</td>\n",
       "      <td>0.00</td>\n",
       "      <td>0.000</td>\n",
       "      <td>0.000</td>\n",
       "      <td>0.00</td>\n",
       "      <td>0.0</td>\n",
       "      <td>26.100037</td>\n",
       "      <td>0.0</td>\n",
       "      <td>0.0</td>\n",
       "      <td>0.000000</td>\n",
       "    </tr>\n",
       "    <tr>\n",
       "      <th>17</th>\n",
       "      <td>0.0</td>\n",
       "      <td>0.0</td>\n",
       "      <td>0.0</td>\n",
       "      <td>0.00000</td>\n",
       "      <td>0.00000</td>\n",
       "      <td>0.00</td>\n",
       "      <td>0.00</td>\n",
       "      <td>0.000000</td>\n",
       "      <td>0.000</td>\n",
       "      <td>0.000000</td>\n",
       "      <td>0.00</td>\n",
       "      <td>0.00</td>\n",
       "      <td>0.000</td>\n",
       "      <td>0.000</td>\n",
       "      <td>0.00</td>\n",
       "      <td>0.0</td>\n",
       "      <td>0.000000</td>\n",
       "      <td>875.0</td>\n",
       "      <td>0.0</td>\n",
       "      <td>0.000000</td>\n",
       "    </tr>\n",
       "    <tr>\n",
       "      <th>18</th>\n",
       "      <td>0.0</td>\n",
       "      <td>0.0</td>\n",
       "      <td>0.0</td>\n",
       "      <td>0.00000</td>\n",
       "      <td>0.00000</td>\n",
       "      <td>0.00</td>\n",
       "      <td>0.00</td>\n",
       "      <td>0.000000</td>\n",
       "      <td>0.000</td>\n",
       "      <td>0.000000</td>\n",
       "      <td>0.00</td>\n",
       "      <td>0.00</td>\n",
       "      <td>0.000</td>\n",
       "      <td>0.000</td>\n",
       "      <td>0.00</td>\n",
       "      <td>0.0</td>\n",
       "      <td>0.000000</td>\n",
       "      <td>0.0</td>\n",
       "      <td>875.0</td>\n",
       "      <td>0.000000</td>\n",
       "    </tr>\n",
       "    <tr>\n",
       "      <th>19</th>\n",
       "      <td>0.0</td>\n",
       "      <td>0.0</td>\n",
       "      <td>0.0</td>\n",
       "      <td>0.00000</td>\n",
       "      <td>0.00000</td>\n",
       "      <td>0.00</td>\n",
       "      <td>0.00</td>\n",
       "      <td>0.000000</td>\n",
       "      <td>0.000</td>\n",
       "      <td>0.000000</td>\n",
       "      <td>0.00</td>\n",
       "      <td>0.00</td>\n",
       "      <td>0.000</td>\n",
       "      <td>0.000</td>\n",
       "      <td>0.00</td>\n",
       "      <td>0.0</td>\n",
       "      <td>0.000000</td>\n",
       "      <td>0.0</td>\n",
       "      <td>0.0</td>\n",
       "      <td>7.314286</td>\n",
       "    </tr>\n",
       "  </tbody>\n",
       "</table>\n",
       "</div>"
      ],
      "text/plain": [
       "        0      1      2         3         4       5       6          7   \\\n",
       "0   2085.0    0.0    0.0   0.00000   0.00000    0.00    0.00   0.000000   \n",
       "1      0.0  583.8    0.0   0.00000   0.00000    0.00    0.00   0.000000   \n",
       "2      0.0    0.0  583.8   0.00000   0.00000    0.00    0.00   0.000000   \n",
       "3      0.0    0.0    0.0  14.07375   0.00000    0.00    0.00   0.000000   \n",
       "4      0.0    0.0    0.0   0.00000  14.07375    0.00    0.00   0.000000   \n",
       "5      0.0    0.0    0.0   0.00000   0.00000  164.15    0.00   0.000000   \n",
       "6      0.0    0.0    0.0   0.00000   0.00000    0.00  164.15   0.000000   \n",
       "7      0.0    0.0    0.0   0.00000   0.00000    0.00    0.00  26.100037   \n",
       "8      0.0    0.0    0.0   0.00000   0.00000    0.00    0.00   0.000000   \n",
       "9      0.0    0.0    0.0   0.00000   0.00000    0.00    0.00   0.000000   \n",
       "10     0.0    0.0    0.0   0.00000   0.00000    0.00    0.00   0.000000   \n",
       "11     0.0    0.0    0.0   0.00000   0.00000    0.00    0.00   0.000000   \n",
       "12     0.0    0.0    0.0   0.00000   0.00000    0.00    0.00   0.000000   \n",
       "13     0.0    0.0    0.0   0.00000   0.00000    0.00    0.00   0.000000   \n",
       "14     0.0    0.0    0.0   0.00000   0.00000    0.00    0.00   0.000000   \n",
       "15     0.0    0.0    0.0   0.00000   0.00000    0.00    0.00   0.000000   \n",
       "16     0.0    0.0    0.0   0.00000   0.00000    0.00    0.00   0.000000   \n",
       "17     0.0    0.0    0.0   0.00000   0.00000    0.00    0.00   0.000000   \n",
       "18     0.0    0.0    0.0   0.00000   0.00000    0.00    0.00   0.000000   \n",
       "19     0.0    0.0    0.0   0.00000   0.00000    0.00    0.00   0.000000   \n",
       "\n",
       "       8         9       10      11     12     13      14    15         16  \\\n",
       "0   0.000  0.000000    0.00    0.00  0.000  0.000    0.00   0.0   0.000000   \n",
       "1   0.000  0.000000    0.00    0.00  0.000  0.000    0.00   0.0   0.000000   \n",
       "2   0.000  0.000000    0.00    0.00  0.000  0.000    0.00   0.0   0.000000   \n",
       "3   0.000  0.000000    0.00    0.00  0.000  0.000    0.00   0.0   0.000000   \n",
       "4   0.000  0.000000    0.00    0.00  0.000  0.000    0.00   0.0   0.000000   \n",
       "5   0.000  0.000000    0.00    0.00  0.000  0.000    0.00   0.0   0.000000   \n",
       "6   0.000  0.000000    0.00    0.00  0.000  0.000    0.00   0.0   0.000000   \n",
       "7   0.000  0.000000    0.00    0.00  0.000  0.000    0.00   0.0   0.000000   \n",
       "8   0.001  0.000000    0.00    0.00  0.000  0.000    0.00   0.0   0.000000   \n",
       "9   0.000  7.314286    0.00    0.00  0.000  0.000    0.00   0.0   0.000000   \n",
       "10  0.000  0.000000  164.15    0.00  0.000  0.000    0.00   0.0   0.000000   \n",
       "11  0.000  0.000000    0.00  164.15  0.000  0.000    0.00   0.0   0.000000   \n",
       "12  0.000  0.000000    0.00    0.00  5.616  0.000    0.00   0.0   0.000000   \n",
       "13  0.000  0.000000    0.00    0.00  0.000  5.616    0.00   0.0   0.000000   \n",
       "14  0.000  0.000000    0.00    0.00  0.000  0.000  164.15   0.0   0.000000   \n",
       "15  0.000  0.000000    0.00    0.00  0.000  0.000    0.00  40.0   0.000000   \n",
       "16  0.000  0.000000    0.00    0.00  0.000  0.000    0.00   0.0  26.100037   \n",
       "17  0.000  0.000000    0.00    0.00  0.000  0.000    0.00   0.0   0.000000   \n",
       "18  0.000  0.000000    0.00    0.00  0.000  0.000    0.00   0.0   0.000000   \n",
       "19  0.000  0.000000    0.00    0.00  0.000  0.000    0.00   0.0   0.000000   \n",
       "\n",
       "       17     18        19  \n",
       "0     0.0    0.0  0.000000  \n",
       "1     0.0    0.0  0.000000  \n",
       "2     0.0    0.0  0.000000  \n",
       "3     0.0    0.0  0.000000  \n",
       "4     0.0    0.0  0.000000  \n",
       "5     0.0    0.0  0.000000  \n",
       "6     0.0    0.0  0.000000  \n",
       "7     0.0    0.0  0.000000  \n",
       "8     0.0    0.0  0.000000  \n",
       "9     0.0    0.0  0.000000  \n",
       "10    0.0    0.0  0.000000  \n",
       "11    0.0    0.0  0.000000  \n",
       "12    0.0    0.0  0.000000  \n",
       "13    0.0    0.0  0.000000  \n",
       "14    0.0    0.0  0.000000  \n",
       "15    0.0    0.0  0.000000  \n",
       "16    0.0    0.0  0.000000  \n",
       "17  875.0    0.0  0.000000  \n",
       "18    0.0  875.0  0.000000  \n",
       "19    0.0    0.0  7.314286  "
      ]
     },
     "execution_count": 36,
     "metadata": {},
     "output_type": "execute_result"
    }
   ],
   "source": [
    "G = np.diag((np.hstack((\n",
    "    convection['Convection'][4], G_cd['Conductance'][2],G_cd['Conductance'][2], G_cd['Conductance'][0], \n",
    "     G_cd['Conductance'][0], G_cd['Conductance'][5], G_cd['Conductance'][5], GLW, Kp, G_cd['Conductance'][3], \n",
    "     G_cd['Conductance'][5], G_cd['Conductance'][5], G_cd['Conductance'][1], \n",
    "     G_cd['Conductance'][1], G_cd['Conductance'][5], convection['Convection'][6], \n",
    "     GLW, G_cd['Conductance'][4],G_cd['Conductance'][4],G_cd['Conductance'][3]))))\n",
    "\n",
    "\n",
    "#np.set_printoptions(precision=3, threshold=16, suppress=True)\n",
    "#pd.set_option(\"display.precision\", 1)\n",
    "pd.DataFrame(G)"
   ]
  },
  {
   "cell_type": "code",
   "execution_count": 37,
   "id": "49e6c9b6",
   "metadata": {},
   "outputs": [
    {
     "data": {
      "text/html": [
       "<div>\n",
       "<style scoped>\n",
       "    .dataframe tbody tr th:only-of-type {\n",
       "        vertical-align: middle;\n",
       "    }\n",
       "\n",
       "    .dataframe tbody tr th {\n",
       "        vertical-align: top;\n",
       "    }\n",
       "\n",
       "    .dataframe thead th {\n",
       "        text-align: right;\n",
       "    }\n",
       "</style>\n",
       "<table border=\"1\" class=\"dataframe\">\n",
       "  <thead>\n",
       "    <tr style=\"text-align: right;\">\n",
       "      <th></th>\n",
       "      <th>0</th>\n",
       "      <th>1</th>\n",
       "      <th>2</th>\n",
       "      <th>3</th>\n",
       "      <th>4</th>\n",
       "      <th>5</th>\n",
       "      <th>6</th>\n",
       "      <th>7</th>\n",
       "      <th>8</th>\n",
       "      <th>9</th>\n",
       "      <th>10</th>\n",
       "      <th>11</th>\n",
       "      <th>12</th>\n",
       "      <th>13</th>\n",
       "    </tr>\n",
       "  </thead>\n",
       "  <tbody>\n",
       "    <tr>\n",
       "      <th>0</th>\n",
       "      <td>0.0</td>\n",
       "      <td>0.0</td>\n",
       "      <td>0.0</td>\n",
       "      <td>0.0</td>\n",
       "      <td>0.0</td>\n",
       "      <td>0.0</td>\n",
       "      <td>0.0</td>\n",
       "      <td>0.0</td>\n",
       "      <td>0.0</td>\n",
       "      <td>0.0</td>\n",
       "      <td>0.0</td>\n",
       "      <td>0.0</td>\n",
       "      <td>0.0</td>\n",
       "      <td>0.0</td>\n",
       "    </tr>\n",
       "    <tr>\n",
       "      <th>1</th>\n",
       "      <td>0.0</td>\n",
       "      <td>33760320.0</td>\n",
       "      <td>0.0</td>\n",
       "      <td>0.0</td>\n",
       "      <td>0.0</td>\n",
       "      <td>0.0</td>\n",
       "      <td>0.0</td>\n",
       "      <td>0.0</td>\n",
       "      <td>0.0</td>\n",
       "      <td>0.0</td>\n",
       "      <td>0.0</td>\n",
       "      <td>0.0</td>\n",
       "      <td>0.0</td>\n",
       "      <td>0.0</td>\n",
       "    </tr>\n",
       "    <tr>\n",
       "      <th>2</th>\n",
       "      <td>0.0</td>\n",
       "      <td>0.0</td>\n",
       "      <td>0.0</td>\n",
       "      <td>0.0</td>\n",
       "      <td>0.0</td>\n",
       "      <td>0.0</td>\n",
       "      <td>0.0</td>\n",
       "      <td>0.0</td>\n",
       "      <td>0.0</td>\n",
       "      <td>0.0</td>\n",
       "      <td>0.0</td>\n",
       "      <td>0.0</td>\n",
       "      <td>0.0</td>\n",
       "      <td>0.0</td>\n",
       "    </tr>\n",
       "    <tr>\n",
       "      <th>3</th>\n",
       "      <td>0.0</td>\n",
       "      <td>0.0</td>\n",
       "      <td>0.0</td>\n",
       "      <td>888043.2</td>\n",
       "      <td>0.0</td>\n",
       "      <td>0.0</td>\n",
       "      <td>0.0</td>\n",
       "      <td>0.0</td>\n",
       "      <td>0.0</td>\n",
       "      <td>0.0</td>\n",
       "      <td>0.0</td>\n",
       "      <td>0.0</td>\n",
       "      <td>0.0</td>\n",
       "      <td>0.0</td>\n",
       "    </tr>\n",
       "    <tr>\n",
       "      <th>4</th>\n",
       "      <td>0.0</td>\n",
       "      <td>0.0</td>\n",
       "      <td>0.0</td>\n",
       "      <td>0.0</td>\n",
       "      <td>0.0</td>\n",
       "      <td>0.0</td>\n",
       "      <td>0.0</td>\n",
       "      <td>0.0</td>\n",
       "      <td>0.0</td>\n",
       "      <td>0.0</td>\n",
       "      <td>0.0</td>\n",
       "      <td>0.0</td>\n",
       "      <td>0.0</td>\n",
       "      <td>0.0</td>\n",
       "    </tr>\n",
       "    <tr>\n",
       "      <th>5</th>\n",
       "      <td>0.0</td>\n",
       "      <td>0.0</td>\n",
       "      <td>0.0</td>\n",
       "      <td>0.0</td>\n",
       "      <td>0.0</td>\n",
       "      <td>1913520.0</td>\n",
       "      <td>0.0</td>\n",
       "      <td>0.0</td>\n",
       "      <td>0.0</td>\n",
       "      <td>0.0</td>\n",
       "      <td>0.0</td>\n",
       "      <td>0.0</td>\n",
       "      <td>0.0</td>\n",
       "      <td>0.0</td>\n",
       "    </tr>\n",
       "    <tr>\n",
       "      <th>6</th>\n",
       "      <td>0.0</td>\n",
       "      <td>0.0</td>\n",
       "      <td>0.0</td>\n",
       "      <td>0.0</td>\n",
       "      <td>0.0</td>\n",
       "      <td>0.0</td>\n",
       "      <td>0.0</td>\n",
       "      <td>0.0</td>\n",
       "      <td>0.0</td>\n",
       "      <td>0.0</td>\n",
       "      <td>0.0</td>\n",
       "      <td>0.0</td>\n",
       "      <td>0.0</td>\n",
       "      <td>0.0</td>\n",
       "    </tr>\n",
       "    <tr>\n",
       "      <th>7</th>\n",
       "      <td>0.0</td>\n",
       "      <td>0.0</td>\n",
       "      <td>0.0</td>\n",
       "      <td>0.0</td>\n",
       "      <td>0.0</td>\n",
       "      <td>0.0</td>\n",
       "      <td>0.0</td>\n",
       "      <td>0.0</td>\n",
       "      <td>0.0</td>\n",
       "      <td>0.0</td>\n",
       "      <td>0.0</td>\n",
       "      <td>0.0</td>\n",
       "      <td>0.0</td>\n",
       "      <td>0.0</td>\n",
       "    </tr>\n",
       "    <tr>\n",
       "      <th>8</th>\n",
       "      <td>0.0</td>\n",
       "      <td>0.0</td>\n",
       "      <td>0.0</td>\n",
       "      <td>0.0</td>\n",
       "      <td>0.0</td>\n",
       "      <td>0.0</td>\n",
       "      <td>0.0</td>\n",
       "      <td>0.0</td>\n",
       "      <td>0.0</td>\n",
       "      <td>0.0</td>\n",
       "      <td>0.0</td>\n",
       "      <td>0.0</td>\n",
       "      <td>0.0</td>\n",
       "      <td>0.0</td>\n",
       "    </tr>\n",
       "    <tr>\n",
       "      <th>9</th>\n",
       "      <td>0.0</td>\n",
       "      <td>0.0</td>\n",
       "      <td>0.0</td>\n",
       "      <td>0.0</td>\n",
       "      <td>0.0</td>\n",
       "      <td>0.0</td>\n",
       "      <td>0.0</td>\n",
       "      <td>0.0</td>\n",
       "      <td>0.0</td>\n",
       "      <td>0.0</td>\n",
       "      <td>0.0</td>\n",
       "      <td>0.0</td>\n",
       "      <td>0.0</td>\n",
       "      <td>0.0</td>\n",
       "    </tr>\n",
       "    <tr>\n",
       "      <th>10</th>\n",
       "      <td>0.0</td>\n",
       "      <td>0.0</td>\n",
       "      <td>0.0</td>\n",
       "      <td>0.0</td>\n",
       "      <td>0.0</td>\n",
       "      <td>0.0</td>\n",
       "      <td>0.0</td>\n",
       "      <td>0.0</td>\n",
       "      <td>0.0</td>\n",
       "      <td>0.0</td>\n",
       "      <td>0.0</td>\n",
       "      <td>0.0</td>\n",
       "      <td>0.0</td>\n",
       "      <td>0.0</td>\n",
       "    </tr>\n",
       "    <tr>\n",
       "      <th>11</th>\n",
       "      <td>0.0</td>\n",
       "      <td>0.0</td>\n",
       "      <td>0.0</td>\n",
       "      <td>0.0</td>\n",
       "      <td>0.0</td>\n",
       "      <td>0.0</td>\n",
       "      <td>0.0</td>\n",
       "      <td>0.0</td>\n",
       "      <td>0.0</td>\n",
       "      <td>0.0</td>\n",
       "      <td>0.0</td>\n",
       "      <td>34606.0</td>\n",
       "      <td>0.0</td>\n",
       "      <td>0.0</td>\n",
       "    </tr>\n",
       "    <tr>\n",
       "      <th>12</th>\n",
       "      <td>0.0</td>\n",
       "      <td>0.0</td>\n",
       "      <td>0.0</td>\n",
       "      <td>0.0</td>\n",
       "      <td>0.0</td>\n",
       "      <td>0.0</td>\n",
       "      <td>0.0</td>\n",
       "      <td>0.0</td>\n",
       "      <td>0.0</td>\n",
       "      <td>0.0</td>\n",
       "      <td>0.0</td>\n",
       "      <td>0.0</td>\n",
       "      <td>0.0</td>\n",
       "      <td>0.0</td>\n",
       "    </tr>\n",
       "    <tr>\n",
       "      <th>13</th>\n",
       "      <td>0.0</td>\n",
       "      <td>0.0</td>\n",
       "      <td>0.0</td>\n",
       "      <td>0.0</td>\n",
       "      <td>0.0</td>\n",
       "      <td>0.0</td>\n",
       "      <td>0.0</td>\n",
       "      <td>0.0</td>\n",
       "      <td>0.0</td>\n",
       "      <td>0.0</td>\n",
       "      <td>0.0</td>\n",
       "      <td>0.0</td>\n",
       "      <td>0.0</td>\n",
       "      <td>0.0</td>\n",
       "    </tr>\n",
       "  </tbody>\n",
       "</table>\n",
       "</div>"
      ],
      "text/plain": [
       "     0           1    2         3    4          5    6    7    8    9    10  \\\n",
       "0   0.0         0.0  0.0       0.0  0.0        0.0  0.0  0.0  0.0  0.0  0.0   \n",
       "1   0.0  33760320.0  0.0       0.0  0.0        0.0  0.0  0.0  0.0  0.0  0.0   \n",
       "2   0.0         0.0  0.0       0.0  0.0        0.0  0.0  0.0  0.0  0.0  0.0   \n",
       "3   0.0         0.0  0.0  888043.2  0.0        0.0  0.0  0.0  0.0  0.0  0.0   \n",
       "4   0.0         0.0  0.0       0.0  0.0        0.0  0.0  0.0  0.0  0.0  0.0   \n",
       "5   0.0         0.0  0.0       0.0  0.0  1913520.0  0.0  0.0  0.0  0.0  0.0   \n",
       "6   0.0         0.0  0.0       0.0  0.0        0.0  0.0  0.0  0.0  0.0  0.0   \n",
       "7   0.0         0.0  0.0       0.0  0.0        0.0  0.0  0.0  0.0  0.0  0.0   \n",
       "8   0.0         0.0  0.0       0.0  0.0        0.0  0.0  0.0  0.0  0.0  0.0   \n",
       "9   0.0         0.0  0.0       0.0  0.0        0.0  0.0  0.0  0.0  0.0  0.0   \n",
       "10  0.0         0.0  0.0       0.0  0.0        0.0  0.0  0.0  0.0  0.0  0.0   \n",
       "11  0.0         0.0  0.0       0.0  0.0        0.0  0.0  0.0  0.0  0.0  0.0   \n",
       "12  0.0         0.0  0.0       0.0  0.0        0.0  0.0  0.0  0.0  0.0  0.0   \n",
       "13  0.0         0.0  0.0       0.0  0.0        0.0  0.0  0.0  0.0  0.0  0.0   \n",
       "\n",
       "         11   12   13  \n",
       "0       0.0  0.0  0.0  \n",
       "1       0.0  0.0  0.0  \n",
       "2       0.0  0.0  0.0  \n",
       "3       0.0  0.0  0.0  \n",
       "4       0.0  0.0  0.0  \n",
       "5       0.0  0.0  0.0  \n",
       "6       0.0  0.0  0.0  \n",
       "7       0.0  0.0  0.0  \n",
       "8       0.0  0.0  0.0  \n",
       "9       0.0  0.0  0.0  \n",
       "10      0.0  0.0  0.0  \n",
       "11  34606.0  0.0  0.0  \n",
       "12      0.0  0.0  0.0  \n",
       "13      0.0  0.0  0.0  "
      ]
     },
     "execution_count": 37,
     "metadata": {},
     "output_type": "execute_result"
    }
   ],
   "source": [
    "C = np.diag([0, capacity['Capacity'][2], 0, capacity['Capacity'][0], 0, capacity['Capacity'][5],0, 0, 0, 0, 0, capacity['Capacity'][1], 0, 0])\n",
    "pd.DataFrame(C)"
   ]
  },
  {
   "cell_type": "code",
   "execution_count": 38,
   "id": "a06e1106",
   "metadata": {},
   "outputs": [
    {
     "name": "stdout",
     "output_type": "stream",
     "text": [
      "b =  [1. 0. 0. 0. 0. 0. 0. 0. 0. 1. 0. 0. 0. 0. 0. 1. 0. 1. 1. 1.]\n"
     ]
    }
   ],
   "source": [
    "b = np.zeros(20)        # branches\n",
    "b[[0, 9, 15, 17, 18, 19]] = 1   # branches with temperature sources\n",
    "print(f'b = ', b)"
   ]
  },
  {
   "cell_type": "code",
   "execution_count": 39,
   "id": "77fcbd90",
   "metadata": {},
   "outputs": [
    {
     "name": "stdout",
     "output_type": "stream",
     "text": [
      "f =  [1. 0. 0. 0. 0. 0. 0. 1. 0. 0. 0. 0. 0. 0.]\n"
     ]
    }
   ],
   "source": [
    "f = np.zeros(14)         # nodes\n",
    "f[[0, 7]] = 1     # nodes with heat-flow sources\n",
    "print(f'f = ', f)"
   ]
  },
  {
   "cell_type": "code",
   "execution_count": 40,
   "id": "92afd438",
   "metadata": {},
   "outputs": [
    {
     "name": "stdout",
     "output_type": "stream",
     "text": [
      "y =  [0. 0. 0. 0. 0. 0. 0. 1. 0. 0. 0. 0. 0. 0.]\n"
     ]
    }
   ],
   "source": [
    "y = np.zeros(14)         # nodes\n",
    "y[[7]] = 1              # nodes (temperatures) of interest\n",
    "print(f'y = ', y)"
   ]
  },
  {
   "cell_type": "markdown",
   "id": "90171b79",
   "metadata": {},
   "source": [
    "8. State space representation"
   ]
  },
  {
   "cell_type": "markdown",
   "id": "5c2eff60",
   "metadata": {},
   "source": [
    "On va maintenant transformer notre DAE en state space representation. "
   ]
  },
  {
   "cell_type": "code",
   "execution_count": 41,
   "id": "56bd77b9",
   "metadata": {},
   "outputs": [
    {
     "name": "stdout",
     "output_type": "stream",
     "text": [
      "As = \n",
      " [[-1.39168174e-05  4.07059488e-07  0.00000000e+00  0.00000000e+00]\n",
      " [ 1.54749888e-05 -3.00715667e-05  1.45965779e-05  0.00000000e+00]\n",
      " [ 0.00000000e+00  6.77410831e-06 -1.83947624e-05  2.87408668e-08]\n",
      " [ 0.00000000e+00  0.00000000e+00  1.58921064e-06 -2.64279884e-04]] \n",
      "\n",
      "Bs = \n",
      " [[1.35097579e-05 0.00000000e+00 0.00000000e+00 0.00000000e+00\n",
      "  0.00000000e+00 0.00000000e+00 6.47950019e-09 0.00000000e+00]\n",
      " [0.00000000e+00 0.00000000e+00 0.00000000e+00 0.00000000e+00\n",
      "  0.00000000e+00 0.00000000e+00 0.00000000e+00 0.00000000e+00]\n",
      " [0.00000000e+00 4.80477981e-08 0.00000000e+00 5.74790553e-06\n",
      "  5.74790553e-06 4.80477981e-08 0.00000000e+00 6.56903489e-09]\n",
      " [0.00000000e+00 5.16174008e-07 1.38159590e-04 6.17493320e-05\n",
      "  6.17493320e-05 5.16174008e-07 0.00000000e+00 7.05706652e-08]] \n",
      "\n",
      "Cs = \n",
      " [[0.         0.         0.01256998 0.00244217]] \n",
      "\n",
      "Ds = \n",
      " [[0.         0.00408272 0.         0.48841093 0.48841093 0.00408272\n",
      "  0.         0.00055818]] \n",
      "\n",
      "(4, 8)\n",
      "(4, 4)\n",
      "(1, 4)\n",
      "(1, 8)\n"
     ]
    }
   ],
   "source": [
    "[As, Bs, Cs, Ds] = dm4bem.tc2ss(A, G, b, C, f, y)\n",
    "print('As = \\n', As, '\\n')\n",
    "print('Bs = \\n', Bs, '\\n')\n",
    "print('Cs = \\n', Cs, '\\n')\n",
    "print('Ds = \\n', Ds, '\\n')\n",
    "print(np.shape(Bs))\n",
    "print(np.shape(As))\n",
    "print(np.shape(Cs))\n",
    "print(np.shape(Ds))\n"
   ]
  },
  {
   "cell_type": "markdown",
   "id": "92d9eba6",
   "metadata": {},
   "source": [
    "9. Steady State"
   ]
  },
  {
   "cell_type": "markdown",
   "id": "1c2aa9bb",
   "metadata": {},
   "source": [
    "En steady state, de nouvelles conditions sont prises en compte : "
   ]
  },
  {
   "attachments": {
    "Capture.PNG": {
     "image/png": "[encoded data removed]"
    }
   },
   "cell_type": "markdown",
   "id": "ce50a2ad",
   "metadata": {},
   "source": [
    "![Capture.PNG](attachment:Capture.PNG)"
   ]
  },
  {
   "cell_type": "markdown",
   "id": "a0af6127",
   "metadata": {},
   "source": [
    "On redéfinit alors les matrices b et f suivantes : "
   ]
  },
  {
   "cell_type": "code",
   "execution_count": 42,
   "id": "f5284862",
   "metadata": {},
   "outputs": [
    {
     "name": "stdout",
     "output_type": "stream",
     "text": [
      "[10.  0.  0.  0.  0.  0.  0.  0. 20. 20.  0.  0.  0.  0.  0. 20.  0. 10.\n",
      " 10. 20.]\n",
      "[1. 0. 0. 0. 0. 0. 0. 1. 0. 0. 0. 0. 0. 0.]\n"
     ]
    }
   ],
   "source": [
    "b = np.zeros(20)        # temperature sources\n",
    "b[[0, 17, 18]] = 10      # outdoor temperature\n",
    "b[[8,9,15,19]] = 20            # indoor set-point temperature\n",
    "\n",
    "fq = np.zeros(14)# flow-rate sources\n",
    "\n",
    "print(b)\n",
    "print(f)"
   ]
  },
  {
   "cell_type": "markdown",
   "id": "149c8059",
   "metadata": {},
   "source": [
    "Et on définit la température θ comme suivant : "
   ]
  },
  {
   "cell_type": "code",
   "execution_count": 43,
   "id": "83287119",
   "metadata": {},
   "outputs": [
    {
     "name": "stdout",
     "output_type": "stream",
     "text": [
      "θ = [10.00071279 10.00154556 10.00237833 10.03692279 10.07146726 10.074429\n",
      " 10.07739074 10.09601793 10.96293361 11.10077419 11.23861477 15.26755546\n",
      " 19.29649615 19.43433673] °C\n"
     ]
    }
   ],
   "source": [
    "θ = np.linalg.inv(A.T @ G @ A) @ (A.T @ G @ b + f)\n",
    "print(f'θ = {θ} °C')"
   ]
  },
  {
   "cell_type": "markdown",
   "id": "5a326660",
   "metadata": {},
   "source": [
    "On définit également u : "
   ]
  },
  {
   "attachments": {
    "Capture.PNG": {
     "image/png": "[encoded data removed]"
    }
   },
   "cell_type": "markdown",
   "id": "507251b4",
   "metadata": {},
   "source": [
    "![Capture.PNG](attachment:Capture.PNG)"
   ]
  },
  {
   "cell_type": "code",
   "execution_count": 44,
   "id": "7c40096d",
   "metadata": {},
   "outputs": [
    {
     "name": "stdout",
     "output_type": "stream",
     "text": [
      "u = [10 10 10 20 20 20 20  0  0  0  0  0  0  0]\n"
     ]
    }
   ],
   "source": [
    "bT = np.array([10, 10, 10, 20, 20, 20, 20])     # [To, To, To, Tisp, Tisp, Tisp, Tisp]\n",
    "fQ = np.array([0, 0, 0, 0, 0, 0, 0])\n",
    "u = np.hstack([bT, fQ])\n",
    "print(f'u = {u}')"
   ]
  },
  {
   "cell_type": "markdown",
   "id": "4e7a4d98",
   "metadata": {},
   "source": [
    "9. Dynamic Simulation"
   ]
  },
  {
   "cell_type": "markdown",
   "id": "db954abf",
   "metadata": {},
   "source": [
    "La condition se stabilité à respecter de la méthode d'Euler implicite est : "
   ]
  },
  {
   "attachments": {
    "Capture.PNG": {
     "image/png": "[encoded data removed]"
    }
   },
   "cell_type": "markdown",
   "id": "2a7e8426",
   "metadata": {},
   "source": [
    "![Capture.PNG](attachment:Capture.PNG)"
   ]
  },
  {
   "cell_type": "code",
   "execution_count": 45,
   "id": "847eaafb",
   "metadata": {},
   "outputs": [
    {
     "name": "stdout",
     "output_type": "stream",
     "text": [
      "Time constants: \n",
      " [27793.31016538 68778.27543505 84291.4150395   3783.86460035] s \n",
      "\n",
      "2 x Time constants: \n",
      " [ 55586.62033077 137556.5508701  168582.830079     7567.7292007 ] s \n",
      "\n",
      "Maximum time step: 7567.73 s = 126.13 min\n"
     ]
    }
   ],
   "source": [
    "λ = np.linalg.eig(As)[0]    # eigenvalues of matrix As\n",
    "\n",
    "print('Time constants: \\n', -1 / λ, 's \\n')\n",
    "print('2 x Time constants: \\n', -2 / λ, 's \\n')\n",
    "dtmax = 2 * min(-1. / λ)\n",
    "print(f'Maximum time step: {dtmax:.2f} s = {dtmax / 60:.2f} min')"
   ]
  },
  {
   "cell_type": "markdown",
   "id": "ba4a6d4a",
   "metadata": {},
   "source": [
    "Choisissons maintenant un temps de réponse plus faible : "
   ]
  },
  {
   "cell_type": "code",
   "execution_count": 46,
   "id": "1c4faabd",
   "metadata": {},
   "outputs": [
    {
     "name": "stdout",
     "output_type": "stream",
     "text": [
      "dt = 7560.0 s = 126 min\n"
     ]
    }
   ],
   "source": [
    "# time step\n",
    "dt = np.floor(dtmax / 60) * 60   # s\n",
    "print(f'dt = {dt} s = {dt / 60:.0f} min')"
   ]
  },
  {
   "cell_type": "markdown",
   "id": "a23463b0",
   "metadata": {},
   "source": [
    "Comme on néglige la capacité de l'air, le temps de réponse est bien plus grand que celui attendu, mais cela reste cohérent."
   ]
  },
  {
   "cell_type": "code",
   "execution_count": 47,
   "id": "ea0dd9e5",
   "metadata": {},
   "outputs": [
    {
     "name": "stdout",
     "output_type": "stream",
     "text": [
      "4 * Time constants: \n",
      " [ 15132 111172 275112 337164] s \n",
      "\n",
      "Settling time: 337166 s = 5619.4 min = 93.66 h = 3.90 days\n"
     ]
    }
   ],
   "source": [
    "# settling time\n",
    "time_const = np.array([int(x) for x in sorted(-1 / λ)])\n",
    "print('4 * Time constants: \\n', 4 * time_const, 's \\n')\n",
    "\n",
    "t_settle = 4 * max(-1 / λ)\n",
    "print(f'Settling time: \\\n",
    "{t_settle:.0f} s = \\\n",
    "{t_settle / 60:.1f} min = \\\n",
    "{t_settle / (3600):.2f} h = \\\n",
    "{t_settle / (3600 * 24):.2f} days')"
   ]
  },
  {
   "cell_type": "markdown",
   "id": "dd64cf9d",
   "metadata": {},
   "source": [
    "Obtenons maintenant le temps de réponse dynamique du système : "
   ]
  },
  {
   "cell_type": "code",
   "execution_count": 48,
   "id": "392b6725",
   "metadata": {},
   "outputs": [
    {
     "name": "stdout",
     "output_type": "stream",
     "text": [
      "Duration = 338400.0 s\n",
      "Number of time steps = 44\n"
     ]
    }
   ],
   "source": [
    "# Step response\n",
    "# -------------\n",
    "# Find the next multiple of 3600 s that is larger than t_settle\n",
    "duration = np.ceil(t_settle / 3600) * 3600\n",
    "n = int(np.floor(duration / dt))    # number of time steps\n",
    "t = np.arange(0, n * dt, dt)        # time vector for n time steps\n",
    "\n",
    "print(f'Duration = {duration} s')\n",
    "print(f'Number of time steps = {n}')\n",
    "# pd.DataFrame(t, columns=['time'])"
   ]
  },
  {
   "cell_type": "markdown",
   "id": "3825dec4",
   "metadata": {},
   "source": [
    "On cherche maintenant le vecteur d'entrée u définit comme : "
   ]
  },
  {
   "attachments": {
    "Capture.PNG": {
     "image/png": "[encoded data removed]"
    }
   },
   "cell_type": "markdown",
   "id": "986687ec",
   "metadata": {},
   "source": [
    "![Capture.PNG](attachment:Capture.PNG)"
   ]
  },
  {
   "cell_type": "code",
   "execution_count": 49,
   "id": "970fca3d",
   "metadata": {},
   "outputs": [
    {
     "data": {
      "text/html": [
       "<div>\n",
       "<style scoped>\n",
       "    .dataframe tbody tr th:only-of-type {\n",
       "        vertical-align: middle;\n",
       "    }\n",
       "\n",
       "    .dataframe tbody tr th {\n",
       "        vertical-align: top;\n",
       "    }\n",
       "\n",
       "    .dataframe thead th {\n",
       "        text-align: right;\n",
       "    }\n",
       "</style>\n",
       "<table border=\"1\" class=\"dataframe\">\n",
       "  <thead>\n",
       "    <tr style=\"text-align: right;\">\n",
       "      <th></th>\n",
       "      <th>0</th>\n",
       "      <th>1</th>\n",
       "      <th>2</th>\n",
       "      <th>3</th>\n",
       "      <th>4</th>\n",
       "      <th>5</th>\n",
       "      <th>6</th>\n",
       "      <th>7</th>\n",
       "      <th>8</th>\n",
       "      <th>9</th>\n",
       "      <th>...</th>\n",
       "      <th>34</th>\n",
       "      <th>35</th>\n",
       "      <th>36</th>\n",
       "      <th>37</th>\n",
       "      <th>38</th>\n",
       "      <th>39</th>\n",
       "      <th>40</th>\n",
       "      <th>41</th>\n",
       "      <th>42</th>\n",
       "      <th>43</th>\n",
       "    </tr>\n",
       "  </thead>\n",
       "  <tbody>\n",
       "    <tr>\n",
       "      <th>0</th>\n",
       "      <td>10.0</td>\n",
       "      <td>10.0</td>\n",
       "      <td>10.0</td>\n",
       "      <td>10.0</td>\n",
       "      <td>10.0</td>\n",
       "      <td>10.0</td>\n",
       "      <td>10.0</td>\n",
       "      <td>10.0</td>\n",
       "      <td>10.0</td>\n",
       "      <td>10.0</td>\n",
       "      <td>...</td>\n",
       "      <td>10.0</td>\n",
       "      <td>10.0</td>\n",
       "      <td>10.0</td>\n",
       "      <td>10.0</td>\n",
       "      <td>10.0</td>\n",
       "      <td>10.0</td>\n",
       "      <td>10.0</td>\n",
       "      <td>10.0</td>\n",
       "      <td>10.0</td>\n",
       "      <td>10.0</td>\n",
       "    </tr>\n",
       "    <tr>\n",
       "      <th>1</th>\n",
       "      <td>10.0</td>\n",
       "      <td>10.0</td>\n",
       "      <td>10.0</td>\n",
       "      <td>10.0</td>\n",
       "      <td>10.0</td>\n",
       "      <td>10.0</td>\n",
       "      <td>10.0</td>\n",
       "      <td>10.0</td>\n",
       "      <td>10.0</td>\n",
       "      <td>10.0</td>\n",
       "      <td>...</td>\n",
       "      <td>10.0</td>\n",
       "      <td>10.0</td>\n",
       "      <td>10.0</td>\n",
       "      <td>10.0</td>\n",
       "      <td>10.0</td>\n",
       "      <td>10.0</td>\n",
       "      <td>10.0</td>\n",
       "      <td>10.0</td>\n",
       "      <td>10.0</td>\n",
       "      <td>10.0</td>\n",
       "    </tr>\n",
       "    <tr>\n",
       "      <th>2</th>\n",
       "      <td>10.0</td>\n",
       "      <td>10.0</td>\n",
       "      <td>10.0</td>\n",
       "      <td>10.0</td>\n",
       "      <td>10.0</td>\n",
       "      <td>10.0</td>\n",
       "      <td>10.0</td>\n",
       "      <td>10.0</td>\n",
       "      <td>10.0</td>\n",
       "      <td>10.0</td>\n",
       "      <td>...</td>\n",
       "      <td>10.0</td>\n",
       "      <td>10.0</td>\n",
       "      <td>10.0</td>\n",
       "      <td>10.0</td>\n",
       "      <td>10.0</td>\n",
       "      <td>10.0</td>\n",
       "      <td>10.0</td>\n",
       "      <td>10.0</td>\n",
       "      <td>10.0</td>\n",
       "      <td>10.0</td>\n",
       "    </tr>\n",
       "    <tr>\n",
       "      <th>3</th>\n",
       "      <td>20.0</td>\n",
       "      <td>20.0</td>\n",
       "      <td>20.0</td>\n",
       "      <td>20.0</td>\n",
       "      <td>20.0</td>\n",
       "      <td>20.0</td>\n",
       "      <td>20.0</td>\n",
       "      <td>20.0</td>\n",
       "      <td>20.0</td>\n",
       "      <td>20.0</td>\n",
       "      <td>...</td>\n",
       "      <td>20.0</td>\n",
       "      <td>20.0</td>\n",
       "      <td>20.0</td>\n",
       "      <td>20.0</td>\n",
       "      <td>20.0</td>\n",
       "      <td>20.0</td>\n",
       "      <td>20.0</td>\n",
       "      <td>20.0</td>\n",
       "      <td>20.0</td>\n",
       "      <td>20.0</td>\n",
       "    </tr>\n",
       "    <tr>\n",
       "      <th>4</th>\n",
       "      <td>20.0</td>\n",
       "      <td>20.0</td>\n",
       "      <td>20.0</td>\n",
       "      <td>20.0</td>\n",
       "      <td>20.0</td>\n",
       "      <td>20.0</td>\n",
       "      <td>20.0</td>\n",
       "      <td>20.0</td>\n",
       "      <td>20.0</td>\n",
       "      <td>20.0</td>\n",
       "      <td>...</td>\n",
       "      <td>20.0</td>\n",
       "      <td>20.0</td>\n",
       "      <td>20.0</td>\n",
       "      <td>20.0</td>\n",
       "      <td>20.0</td>\n",
       "      <td>20.0</td>\n",
       "      <td>20.0</td>\n",
       "      <td>20.0</td>\n",
       "      <td>20.0</td>\n",
       "      <td>20.0</td>\n",
       "    </tr>\n",
       "    <tr>\n",
       "      <th>5</th>\n",
       "      <td>20.0</td>\n",
       "      <td>20.0</td>\n",
       "      <td>20.0</td>\n",
       "      <td>20.0</td>\n",
       "      <td>20.0</td>\n",
       "      <td>20.0</td>\n",
       "      <td>20.0</td>\n",
       "      <td>20.0</td>\n",
       "      <td>20.0</td>\n",
       "      <td>20.0</td>\n",
       "      <td>...</td>\n",
       "      <td>20.0</td>\n",
       "      <td>20.0</td>\n",
       "      <td>20.0</td>\n",
       "      <td>20.0</td>\n",
       "      <td>20.0</td>\n",
       "      <td>20.0</td>\n",
       "      <td>20.0</td>\n",
       "      <td>20.0</td>\n",
       "      <td>20.0</td>\n",
       "      <td>20.0</td>\n",
       "    </tr>\n",
       "    <tr>\n",
       "      <th>6</th>\n",
       "      <td>20.0</td>\n",
       "      <td>20.0</td>\n",
       "      <td>20.0</td>\n",
       "      <td>20.0</td>\n",
       "      <td>20.0</td>\n",
       "      <td>20.0</td>\n",
       "      <td>20.0</td>\n",
       "      <td>20.0</td>\n",
       "      <td>20.0</td>\n",
       "      <td>20.0</td>\n",
       "      <td>...</td>\n",
       "      <td>20.0</td>\n",
       "      <td>20.0</td>\n",
       "      <td>20.0</td>\n",
       "      <td>20.0</td>\n",
       "      <td>20.0</td>\n",
       "      <td>20.0</td>\n",
       "      <td>20.0</td>\n",
       "      <td>20.0</td>\n",
       "      <td>20.0</td>\n",
       "      <td>20.0</td>\n",
       "    </tr>\n",
       "    <tr>\n",
       "      <th>7</th>\n",
       "      <td>0.0</td>\n",
       "      <td>0.0</td>\n",
       "      <td>0.0</td>\n",
       "      <td>0.0</td>\n",
       "      <td>0.0</td>\n",
       "      <td>0.0</td>\n",
       "      <td>0.0</td>\n",
       "      <td>0.0</td>\n",
       "      <td>0.0</td>\n",
       "      <td>0.0</td>\n",
       "      <td>...</td>\n",
       "      <td>0.0</td>\n",
       "      <td>0.0</td>\n",
       "      <td>0.0</td>\n",
       "      <td>0.0</td>\n",
       "      <td>0.0</td>\n",
       "      <td>0.0</td>\n",
       "      <td>0.0</td>\n",
       "      <td>0.0</td>\n",
       "      <td>0.0</td>\n",
       "      <td>0.0</td>\n",
       "    </tr>\n",
       "  </tbody>\n",
       "</table>\n",
       "<p>8 rows × 44 columns</p>\n",
       "</div>"
      ],
      "text/plain": [
       "     0     1     2     3     4     5     6     7     8     9   ...    34  \\\n",
       "0  10.0  10.0  10.0  10.0  10.0  10.0  10.0  10.0  10.0  10.0  ...  10.0   \n",
       "1  10.0  10.0  10.0  10.0  10.0  10.0  10.0  10.0  10.0  10.0  ...  10.0   \n",
       "2  10.0  10.0  10.0  10.0  10.0  10.0  10.0  10.0  10.0  10.0  ...  10.0   \n",
       "3  20.0  20.0  20.0  20.0  20.0  20.0  20.0  20.0  20.0  20.0  ...  20.0   \n",
       "4  20.0  20.0  20.0  20.0  20.0  20.0  20.0  20.0  20.0  20.0  ...  20.0   \n",
       "5  20.0  20.0  20.0  20.0  20.0  20.0  20.0  20.0  20.0  20.0  ...  20.0   \n",
       "6  20.0  20.0  20.0  20.0  20.0  20.0  20.0  20.0  20.0  20.0  ...  20.0   \n",
       "7   0.0   0.0   0.0   0.0   0.0   0.0   0.0   0.0   0.0   0.0  ...   0.0   \n",
       "\n",
       "     35    36    37    38    39    40    41    42    43  \n",
       "0  10.0  10.0  10.0  10.0  10.0  10.0  10.0  10.0  10.0  \n",
       "1  10.0  10.0  10.0  10.0  10.0  10.0  10.0  10.0  10.0  \n",
       "2  10.0  10.0  10.0  10.0  10.0  10.0  10.0  10.0  10.0  \n",
       "3  20.0  20.0  20.0  20.0  20.0  20.0  20.0  20.0  20.0  \n",
       "4  20.0  20.0  20.0  20.0  20.0  20.0  20.0  20.0  20.0  \n",
       "5  20.0  20.0  20.0  20.0  20.0  20.0  20.0  20.0  20.0  \n",
       "6  20.0  20.0  20.0  20.0  20.0  20.0  20.0  20.0  20.0  \n",
       "7   0.0   0.0   0.0   0.0   0.0   0.0   0.0   0.0   0.0  \n",
       "\n",
       "[8 rows x 44 columns]"
      ]
     },
     "execution_count": 49,
     "metadata": {},
     "output_type": "execute_result"
    }
   ],
   "source": [
    "u = np.zeros([8, n])\n",
    "u[0:3, :] = 10 * np.ones([3, n])    # To = 10 for n time steps\n",
    "u[3:7, :] = 20 * np.ones([1, n])      # Tisp = 20 for n time steps\n",
    "\n",
    "pd.DataFrame(u)"
   ]
  },
  {
   "cell_type": "markdown",
   "id": "1b88e1be",
   "metadata": {},
   "source": [
    "En intégrant à l'aide de la méthode d'Euler, on obtient : "
   ]
  },
  {
   "cell_type": "code",
   "execution_count": 73,
   "id": "ccaeec1c",
   "metadata": {},
   "outputs": [],
   "source": [
    "n_s = As.shape[0]                      # number of state variables\n",
    "θ_exp = np.zeros([n_s, t.shape[0]])    # explicit Euler in time t\n",
    "θ_imp = np.zeros([n_s, t.shape[0]])    # implicit Euler in time t\n",
    "\n",
    "I = np.eye(n_s)                        # identity matrix\n",
    "\n",
    "for k in range(n - 1):\n",
    "    θ_exp[:, k + 1] = (I + dt * As) @\\\n",
    "        θ_exp[:, k] + dt * Bs @ u[:, k]\n",
    "    θ_imp[:, k + 1] = np.linalg.inv(I - dt * As) @\\\n",
    "        (θ_imp[:, k] + dt * Bs @ u[:, k])\n",
    "        \n",
    "#print(θ_imp)\n"
   ]
  },
  {
   "cell_type": "markdown",
   "id": "481b4bcc",
   "metadata": {},
   "source": [
    "On obtient alors la sortie suivant :\n",
    "\n",
    "$$ y = C_s \\theta_s + D_s u$$\n",
    "\n"
   ]
  },
  {
   "cell_type": "code",
   "execution_count": 70,
   "id": "e4340695",
   "metadata": {},
   "outputs": [],
   "source": [
    "y_exp = Cs @ θ_exp + Ds @  u\n",
    "y_imp = Cs @ θ_imp + Ds @  u"
   ]
  },
  {
   "cell_type": "code",
   "execution_count": 72,
   "id": "32321134",
   "metadata": {},
   "outputs": [
    {
     "data": {
      "image/png": "[encoded data removed]",
      "text/plain": [
       "<Figure size 432x288 with 1 Axes>"
      ]
     },
     "metadata": {
      "needs_background": "light"
     },
     "output_type": "display_data"
    }
   ],
   "source": [
    "fig, ax = plt.subplots()\n",
    "ax.plot(t/3600, y_imp.T)\n",
    "ax.plot(t/3600, y_exp.T)\n",
    "ax.set(xlabel='Time, $t$ / h',\n",
    "       ylabel='Temperatue, $θ_i$ / °C',\n",
    "       title='Indoor temperature ')\n",
    "ax.legend(['Explicit', 'Implicit'])\n",
    "ax.grid()\n",
    "plt.show()"
   ]
  },
  {
   "cell_type": "markdown",
   "id": "0f2d5e68",
   "metadata": {},
   "source": [
    "##### Irradiation solaires des murs\n",
    "Pour la surface orientée définit par For `slope`, `azimuth` et `latitude`, et `albedo` de la surface en face du mur, on peut calculer (en utilisant les données météos) :\n",
    "- direct irradiance, W/m²,\n",
    "- diffuse irradiance, W/m²,\n",
    "- reflected irradiance, W/m²,\n"
   ]
  },
  {
   "cell_type": "code",
   "execution_count": 77,
   "id": "d56ad100",
   "metadata": {},
   "outputs": [],
   "source": [
    "filename = './FRA_Lyon.074810_IWEC.epw'\n",
    "[data, meta] = dm4bem.read_epw(filename, coerce_year=None)\n",
    "weather = data[[\"temp_air\", \"dir_n_rad\", \"dif_h_rad\"]]\n",
    "del data\n",
    "\n",
    "weather.index = weather.index.map(lambda t: t.replace(year=2000))\n",
    "weather = weather.loc[start_date:end_date]\n",
    "\n",
    "surface_orientation = {'slope': 90,\n",
    "                       'azimuth': 0,\n",
    "                       'latitude': 45}\n",
    "albedo = 0.2\n",
    "rad_surf = dm4bem.sol_rad_tilt_surf(\n",
    "    weather, surface_orientation, albedo)\n",
    "# pd.DataFrame(rad_surf)"
   ]
  },
  {
   "cell_type": "markdown",
   "id": "b4e833b3",
   "metadata": {},
   "source": [
    "Pour l'irrandiance totale [irradiance](https://en.m.wikipedia.org/wiki/Solar_irradiance)  $E_{tot}$, en W/m², est la somme des composantes de diffusion, réflexion et autre."
   ]
  },
  {
   "cell_type": "code",
   "execution_count": 79,
   "id": "170daf7a",
   "metadata": {},
   "outputs": [
    {
     "name": "stdout",
     "output_type": "stream",
     "text": [
      "                              direct  diffuse  reflected        Φtot\n",
      "2000-01-03 12:00:00+01:00   5.423683     66.5  27.025936  197.899238\n",
      "2000-01-03 13:00:00+01:00  62.074669     75.0  34.289730  342.728798\n",
      "2000-01-03 14:00:00+01:00  66.175859     67.5  30.353167  328.058052\n",
      "2000-01-03 15:00:00+01:00  38.420856     42.0  17.456968  195.755648\n",
      "2000-01-03 16:00:00+01:00   0.000000      9.5   3.800000   26.600000\n",
      "...                              ...      ...        ...         ...\n",
      "2000-03-04 14:00:00+01:00   0.000000     65.5  26.200000  183.400000\n",
      "2000-03-04 15:00:00+01:00   0.000000     50.5  20.200000  141.400000\n",
      "2000-03-04 16:00:00+01:00   0.000000     41.0  16.400000  114.800000\n",
      "2000-03-04 17:00:00+01:00   0.000000     17.0   6.800000   47.600000\n",
      "2000-03-04 18:00:00+01:00   0.000000      1.0   0.400000    2.800000\n",
      "\n",
      "[1447 rows x 4 columns]\n"
     ]
    }
   ],
   "source": [
    "rad_surf['Φtot'] = rad_surf.sum(axis=1)\n",
    "print(rad_surf)"
   ]
  },
  {
   "cell_type": "markdown",
   "id": "a36bd4bd",
   "metadata": {},
   "source": [
    "En utilisant maintenant la météo, on peut avoir : "
   ]
  },
  {
   "cell_type": "code",
   "execution_count": 53,
   "id": "289ce0e7",
   "metadata": {},
   "outputs": [],
   "source": [
    "weather_file = './FRA_Lyon.074810_IWEC.epw'\n",
    "start_date = '2000-01-03 12:00:00'\n",
    "end_date = '2000-03-04 18:00:00'"
   ]
  },
  {
   "cell_type": "code",
   "execution_count": 54,
   "id": "d618d97a",
   "metadata": {},
   "outputs": [
    {
     "data": {
      "image/png": "[encoded data removed]",
      "text/plain": [
       "<Figure size 432x288 with 2 Axes>"
      ]
     },
     "metadata": {
      "needs_background": "light"
     },
     "output_type": "display_data"
    }
   ],
   "source": [
    "Tisp = 20\n",
    "y, q_HVAC, data = tuto.P_control(\n",
    "    weather_file, start_date, end_date, dt,\n",
    "    As, Bs, Cs, Ds, Kp, Tisp)\n",
    "tuto.plot_results(y, q_HVAC, data)"
   ]
  },
  {
   "cell_type": "markdown",
   "id": "3ce2ba2d",
   "metadata": {},
   "source": [
    "On décide de prendre maintenant un gain Kp parfait : "
   ]
  },
  {
   "cell_type": "code",
   "execution_count": 56,
   "id": "98e004df",
   "metadata": {},
   "outputs": [],
   "source": [
    "Kp = 1e3    # P-controler gain, Kp -> ∞"
   ]
  },
  {
   "cell_type": "code",
   "execution_count": 57,
   "id": "b2f7c04a",
   "metadata": {},
   "outputs": [],
   "source": [
    "TCa = tuto.thermal_circuit(Kp)"
   ]
  },
  {
   "cell_type": "markdown",
   "id": "475ca15a",
   "metadata": {},
   "source": [
    "Le circuit thermique tCa est alors converti en représentation d'état : "
   ]
  },
  {
   "cell_type": "code",
   "execution_count": 58,
   "id": "fe13687d",
   "metadata": {},
   "outputs": [],
   "source": [
    "[As, Bs, Cs, Ds] = dm4bem.tc2ss(\n",
    "    TCa['A'], TCa['G'], TCa['b'], TCa['C'], TCa['f'], TCa['y'])"
   ]
  },
  {
   "cell_type": "markdown",
   "id": "9a748667",
   "metadata": {},
   "source": [
    "On a alors :"
   ]
  },
  {
   "attachments": {
    "Capture.PNG": {
     "image/png": "[encoded data removed]"
    }
   },
   "cell_type": "markdown",
   "id": "b3e572f8",
   "metadata": {},
   "source": [
    "![Capture.PNG](attachment:Capture.PNG)"
   ]
  },
  {
   "cell_type": "code",
   "execution_count": 59,
   "id": "46f98d08",
   "metadata": {},
   "outputs": [
    {
     "name": "stdout",
     "output_type": "stream",
     "text": [
      "Maximum time step: 58.92 s\n"
     ]
    }
   ],
   "source": [
    "dtmax = min(-2. / np.linalg.eig(As)[0])\n",
    "dtmax = -2. / min(np.linalg.eig(As)[0])\n",
    "print(f'Maximum time step: {dtmax:.2f} s')"
   ]
  },
  {
   "cell_type": "markdown",
   "id": "ba95d4e4",
   "metadata": {},
   "source": [
    "On choisit alors un pas de temps inférieur à celui maximum : "
   ]
  },
  {
   "cell_type": "code",
   "execution_count": 60,
   "id": "937a9202",
   "metadata": {},
   "outputs": [
    {
     "name": "stdout",
     "output_type": "stream",
     "text": [
      "dt = 50 s\n"
     ]
    }
   ],
   "source": [
    "dt = 50   # [s] simulation time step\n",
    "print(f'dt = {dt} s')"
   ]
  },
  {
   "cell_type": "code",
   "execution_count": 62,
   "id": "0dcfdba8",
   "metadata": {},
   "outputs": [
    {
     "data": {
      "image/png": "[encoded data removed]",
      "text/plain": [
       "<Figure size 432x288 with 2 Axes>"
      ]
     },
     "metadata": {
      "needs_background": "light"
     },
     "output_type": "display_data"
    }
   ],
   "source": [
    "y, q_HVAC, data = tuto.P_control(\n",
    "    weather_file, start_date, end_date, dt,\n",
    "    As, Bs, Cs, Ds, Kp, Tisp)\n",
    "tuto.plot_results(y, q_HVAC, data)"
   ]
  },
  {
   "cell_type": "code",
   "execution_count": null,
   "id": "08549099",
   "metadata": {},
   "outputs": [],
   "source": []
  }
 ],
 "metadata": {
  "kernelspec": {
   "display_name": "Python 3 (ipykernel)",
   "language": "python",
   "name": "python3"
  },
  "language_info": {
   "codemirror_mode": {
    "name": "ipython",
    "version": 3
   },
   "file_extension": ".py",
   "mimetype": "text/x-python",
   "name": "python",
   "nbconvert_exporter": "python",
   "pygments_lexer": "ipython3",
   "version": "3.9.13"
  }
 },
 "nbformat": 4,
 "nbformat_minor": 5
}
